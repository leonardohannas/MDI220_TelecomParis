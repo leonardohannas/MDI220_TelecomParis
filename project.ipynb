{
 "cells": [
  {
   "cell_type": "markdown",
   "id": "528c4397",
   "metadata": {},
   "source": [
    "# MDI220\n",
    "# Statistics\n",
    "\n",
    "# Project "
   ]
  },
  {
   "cell_type": "markdown",
   "id": "9f9f9769",
   "metadata": {},
   "source": [
    "This is the project for the course on statistics.\n",
    "\n",
    "You must fill this notebook and upload it on eCampus, **including figures**. Please make sure that it runs **without erros**.\n",
    "\n",
    "You can work in teams but the final notebook, including text and code, must be **yours**. Any copy-pasting across students is strictly forbidden.\n",
    "\n",
    "Please provide **concise answers** and **concise code**, with comments when appropriate."
   ]
  },
  {
   "cell_type": "markdown",
   "id": "ca534555",
   "metadata": {},
   "source": [
    "## Name: Leonardo Hannas de Carvalho Santos"
   ]
  },
  {
   "cell_type": "markdown",
   "id": "986d36a8",
   "metadata": {},
   "source": [
    "## Imports"
   ]
  },
  {
   "cell_type": "markdown",
   "id": "f30a6df8",
   "metadata": {},
   "source": [
    "Please do **not** import any other library."
   ]
  },
  {
   "cell_type": "code",
   "execution_count": 1,
   "id": "d453a573",
   "metadata": {},
   "outputs": [],
   "source": [
    "import numpy as np\n",
    "import pandas as pd\n",
    "import matplotlib.pyplot as plt"
   ]
  },
  {
   "cell_type": "code",
   "execution_count": 2,
   "id": "18e10613",
   "metadata": {},
   "outputs": [],
   "source": [
    "from scipy.stats import norm, chi2, gaussian_kde, t"
   ]
  },
  {
   "cell_type": "code",
   "execution_count": 3,
   "id": "2e543f41",
   "metadata": {},
   "outputs": [],
   "source": [
    "import seaborn as sns"
   ]
  },
  {
   "cell_type": "markdown",
   "id": "150efe52",
   "metadata": {},
   "source": [
    "## Data"
   ]
  },
  {
   "cell_type": "markdown",
   "id": "a447bd21",
   "metadata": {},
   "source": [
    "We consider the **daily electric power consumption** (in MW) in France in the period 2013-2023. The dataset is available on **eCampus**. \n",
    "\n",
    "Detailed information on this dataset is available [here](https://www.data.gouv.fr/fr/datasets/consommation-quotidienne-brute-regionale/)."
   ]
  },
  {
   "cell_type": "code",
   "execution_count": 4,
   "id": "a5379d2c",
   "metadata": {},
   "outputs": [],
   "source": [
    "filename = 'power_consumption.csv'\n",
    "df = pd.read_csv(filename)"
   ]
  },
  {
   "cell_type": "code",
   "execution_count": 5,
   "id": "c67ea70e",
   "metadata": {},
   "outputs": [
    {
     "data": {
      "text/html": [
       "<div>\n",
       "<style scoped>\n",
       "    .dataframe tbody tr th:only-of-type {\n",
       "        vertical-align: middle;\n",
       "    }\n",
       "\n",
       "    .dataframe tbody tr th {\n",
       "        vertical-align: top;\n",
       "    }\n",
       "\n",
       "    .dataframe thead th {\n",
       "        text-align: right;\n",
       "    }\n",
       "</style>\n",
       "<table border=\"1\" class=\"dataframe\">\n",
       "  <thead>\n",
       "    <tr style=\"text-align: right;\">\n",
       "      <th></th>\n",
       "      <th>region</th>\n",
       "      <th>date</th>\n",
       "      <th>consumption</th>\n",
       "    </tr>\n",
       "  </thead>\n",
       "  <tbody>\n",
       "    <tr>\n",
       "      <th>0</th>\n",
       "      <td>Auvergne-Rhône-Alpes</td>\n",
       "      <td>2013-01-01</td>\n",
       "      <td>7560</td>\n",
       "    </tr>\n",
       "    <tr>\n",
       "      <th>1</th>\n",
       "      <td>Auvergne-Rhône-Alpes</td>\n",
       "      <td>2013-01-02</td>\n",
       "      <td>8700</td>\n",
       "    </tr>\n",
       "    <tr>\n",
       "      <th>2</th>\n",
       "      <td>Auvergne-Rhône-Alpes</td>\n",
       "      <td>2013-01-03</td>\n",
       "      <td>9367</td>\n",
       "    </tr>\n",
       "    <tr>\n",
       "      <th>3</th>\n",
       "      <td>Auvergne-Rhône-Alpes</td>\n",
       "      <td>2013-01-04</td>\n",
       "      <td>9133</td>\n",
       "    </tr>\n",
       "    <tr>\n",
       "      <th>4</th>\n",
       "      <td>Auvergne-Rhône-Alpes</td>\n",
       "      <td>2013-01-05</td>\n",
       "      <td>8283</td>\n",
       "    </tr>\n",
       "  </tbody>\n",
       "</table>\n",
       "</div>"
      ],
      "text/plain": [
       "                 region        date  consumption\n",
       "0  Auvergne-Rhône-Alpes  2013-01-01         7560\n",
       "1  Auvergne-Rhône-Alpes  2013-01-02         8700\n",
       "2  Auvergne-Rhône-Alpes  2013-01-03         9367\n",
       "3  Auvergne-Rhône-Alpes  2013-01-04         9133\n",
       "4  Auvergne-Rhône-Alpes  2013-01-05         8283"
      ]
     },
     "execution_count": 5,
     "metadata": {},
     "output_type": "execute_result"
    }
   ],
   "source": [
    "df.head()"
   ]
  },
  {
   "cell_type": "code",
   "execution_count": 6,
   "id": "9e299cd9",
   "metadata": {},
   "outputs": [],
   "source": [
    "regions = list(df.region.unique())"
   ]
  },
  {
   "cell_type": "code",
   "execution_count": 7,
   "id": "907ac06f",
   "metadata": {},
   "outputs": [
    {
     "data": {
      "text/plain": [
       "['Auvergne-Rhône-Alpes',\n",
       " 'Bourgogne-Franche-Comté',\n",
       " 'Bretagne',\n",
       " 'Centre-Val de Loire',\n",
       " 'Grand Est',\n",
       " 'Hauts-de-France',\n",
       " 'Normandie',\n",
       " 'Nouvelle-Aquitaine',\n",
       " 'Occitanie',\n",
       " 'Pays de la Loire',\n",
       " \"Provence-Alpes-Côte d'Azur\",\n",
       " 'Île-de-France']"
      ]
     },
     "execution_count": 7,
     "metadata": {},
     "output_type": "execute_result"
    }
   ],
   "source": [
    "regions"
   ]
  },
  {
   "cell_type": "code",
   "execution_count": 8,
   "id": "2e2704da",
   "metadata": {},
   "outputs": [
    {
     "data": {
      "text/html": [
       "<div>\n",
       "<style scoped>\n",
       "    .dataframe tbody tr th:only-of-type {\n",
       "        vertical-align: middle;\n",
       "    }\n",
       "\n",
       "    .dataframe tbody tr th {\n",
       "        vertical-align: top;\n",
       "    }\n",
       "\n",
       "    .dataframe thead th {\n",
       "        text-align: right;\n",
       "    }\n",
       "</style>\n",
       "<table border=\"1\" class=\"dataframe\">\n",
       "  <thead>\n",
       "    <tr style=\"text-align: right;\">\n",
       "      <th></th>\n",
       "      <th>consumption</th>\n",
       "    </tr>\n",
       "    <tr>\n",
       "      <th>region</th>\n",
       "      <th></th>\n",
       "    </tr>\n",
       "  </thead>\n",
       "  <tbody>\n",
       "    <tr>\n",
       "      <th>Auvergne-Rhône-Alpes</th>\n",
       "      <td>7495</td>\n",
       "    </tr>\n",
       "    <tr>\n",
       "      <th>Bourgogne-Franche-Comté</th>\n",
       "      <td>2416</td>\n",
       "    </tr>\n",
       "    <tr>\n",
       "      <th>Bretagne</th>\n",
       "      <td>2546</td>\n",
       "    </tr>\n",
       "    <tr>\n",
       "      <th>Centre-Val de Loire</th>\n",
       "      <td>2139</td>\n",
       "    </tr>\n",
       "    <tr>\n",
       "      <th>Grand Est</th>\n",
       "      <td>5155</td>\n",
       "    </tr>\n",
       "    <tr>\n",
       "      <th>Hauts-de-France</th>\n",
       "      <td>5726</td>\n",
       "    </tr>\n",
       "    <tr>\n",
       "      <th>Normandie</th>\n",
       "      <td>3168</td>\n",
       "    </tr>\n",
       "    <tr>\n",
       "      <th>Nouvelle-Aquitaine</th>\n",
       "      <td>4925</td>\n",
       "    </tr>\n",
       "    <tr>\n",
       "      <th>Occitanie</th>\n",
       "      <td>4266</td>\n",
       "    </tr>\n",
       "    <tr>\n",
       "      <th>Pays de la Loire</th>\n",
       "      <td>3077</td>\n",
       "    </tr>\n",
       "    <tr>\n",
       "      <th>Provence-Alpes-Côte d'Azur</th>\n",
       "      <td>4656</td>\n",
       "    </tr>\n",
       "    <tr>\n",
       "      <th>Île-de-France</th>\n",
       "      <td>8008</td>\n",
       "    </tr>\n",
       "  </tbody>\n",
       "</table>\n",
       "</div>"
      ],
      "text/plain": [
       "                            consumption\n",
       "region                                 \n",
       "Auvergne-Rhône-Alpes               7495\n",
       "Bourgogne-Franche-Comté            2416\n",
       "Bretagne                           2546\n",
       "Centre-Val de Loire                2139\n",
       "Grand Est                          5155\n",
       "Hauts-de-France                    5726\n",
       "Normandie                          3168\n",
       "Nouvelle-Aquitaine                 4925\n",
       "Occitanie                          4266\n",
       "Pays de la Loire                   3077\n",
       "Provence-Alpes-Côte d'Azur         4656\n",
       "Île-de-France                      8008"
      ]
     },
     "execution_count": 8,
     "metadata": {},
     "output_type": "execute_result"
    }
   ],
   "source": [
    "# average consumption per region\n",
    "df[[\"region\", \"consumption\"]].groupby(\"region\").mean().astype(int)"
   ]
  },
  {
   "cell_type": "code",
   "execution_count": 9,
   "id": "3ed15bbc",
   "metadata": {},
   "outputs": [
    {
     "data": {
      "text/plain": [
       "consumption    53582\n",
       "dtype: int64"
      ]
     },
     "execution_count": 9,
     "metadata": {},
     "output_type": "execute_result"
    }
   ],
   "source": [
    "# average consumption in France (MW)\n",
    "df[[\"region\", \"consumption\"]].groupby(\"region\").mean().sum().astype(int)"
   ]
  },
  {
   "cell_type": "code",
   "execution_count": 10,
   "id": "2ebdd086",
   "metadata": {},
   "outputs": [],
   "source": [
    "# selection of a region\n",
    "region = \"Bretagne\"\n",
    "df_region = df[df.region == region]"
   ]
  },
  {
   "cell_type": "code",
   "execution_count": 11,
   "id": "bbb87de5",
   "metadata": {},
   "outputs": [
    {
     "data": {
      "image/png": "[encoded data removed]",
      "text/plain": [
       "<Figure size 864x432 with 1 Axes>"
      ]
     },
     "metadata": {
      "needs_background": "light"
     },
     "output_type": "display_data"
    }
   ],
   "source": [
    "# density (with kde = kernel density estimation)\n",
    "plt.figure(figsize=(12,6))\n",
    "sns.kdeplot(data=df_region, x=\"consumption\", label=\"Data\", color='blue', fill=True)\n",
    "plt.title(region)\n",
    "plt.xlabel(\"Consumption (MW)\")\n",
    "plt.legend() \n",
    "plt.show()"
   ]
  },
  {
   "cell_type": "markdown",
   "id": "045ae627",
   "metadata": {},
   "source": [
    "## A. Parameter estimation"
   ]
  },
  {
   "cell_type": "markdown",
   "id": "99972e6a",
   "metadata": {},
   "source": [
    "In all the project, the daily power consumptions are assumed to be i.i.d., with a Gaussian distribution. \n",
    "\n",
    "We use the following estimators for the mean and the variance, given $n$ observations $x_1,\\ldots,x_n$:\n",
    "$$\n",
    "\\hat \\mu = \\frac 1 n \\sum_{i=1}^n x_i\\quad \\hat{\\sigma^2} = \\frac 1 {n-1}\\sum_{i=1}^n (x_i - \\hat \\mu)^2\n",
    "$$\n",
    "The corresponding estimate of the standard deviation is:\n",
    "$$\n",
    "\\hat \\sigma = \\sqrt{\\hat{\\sigma^2}}\n",
    "$$\n",
    "\n",
    "Consider the region Bretagne. \n",
    "\n",
    "**1. Show that the estimators for the mean and the variance are unbiased.**"
   ]
  },
  {
   "cell_type": "markdown",
   "id": "fc43c835",
   "metadata": {},
   "source": [
    "* Mean estimator:\n",
    "    $$\n",
    "    \\begin{equation}\n",
    "    b(\\mu, \\hat \\mu) = E(\\hat \\mu) - \\mu = E\\left( \\frac{1}{n} \\sum_{i=1}^{n} x_{i}\\right) - \\mu = \\frac{1}{n} E\\left( \\sum_{i=1}^{n} x_{i}\\right) - \\mu\n",
    "    \\end{equation}\n",
    "    $$\n",
    "\n",
    "    Since the observations are assumed to be i.i.d., the following equality is valid:\n",
    "    $$\n",
    "    \\begin{equation}\n",
    "    E\\left( \\sum_{i=1}^{n} x_{i}\\right) = E(n x_{1})\n",
    "    \\end{equation}\n",
    "    $$\n",
    "\n",
    "    Therefore, the bias of the estimator for the mean will be:\n",
    "    $$\n",
    "    \\begin{equation}\n",
    "    b(\\mu, \\hat \\mu) = \\frac{1}{n} E(n x_{1}) - \\mu = \\frac{1}{n} n E(x_{1}) - \\mu = E(x_{1}) - \\mu\n",
    "    \\end{equation}\n",
    "    $$\n",
    "\n",
    "    Given that $x_{1}$ follows a Gaussian Distribution with parameters $\\mu$ and $\\sigma^{2}$, *i.e.*, $x_{1} \\sim N(\\mu, \\sigma^{2})$ its expectation is $E(x_{1}) = \\mu$.\n",
    "\n",
    "    Finally, the bias of the mean estimator can be computed, as follows, showing that this estimator is unbiased.\n",
    "    $$\n",
    "    \\begin{equation}\n",
    "    b(\\mu, \\hat \\mu) = \\mu - \\mu \\Rightarrow  b(\\mu, \\hat \\mu) = 0\n",
    "    \\end{equation}\n",
    "    $$\n"
   ]
  },
  {
   "cell_type": "markdown",
   "id": "45b01cff",
   "metadata": {},
   "source": [
    "* Variance estimator:\n",
    "\n",
    "    Before computing the expectation of the variance estimator, some useful results are shown below:\n",
    "    \n",
    "    $$\n",
    "    \\begin{equation*}\n",
    "    \\left\\{\\begin{matrix}\n",
    "Var(\\hat \\mu) = Var\\left(\\frac{1}{n} \\sum_{i=1}^n x_i\\right) = \\frac{1}{n^{2}} Var \\left(\\sum_{i=1}^{n}x_{i}\\right) = \\frac{1}{n^{2}} \\sum_{i=1}^{n} Var(x_{i}) = \\frac{1}{n^{2}} n Var(x_{1}) = \\frac{\\sigma^{2}}{n}\\\\\n",
    "E(\\hat \\mu^{2}) = Var(\\hat \\mu) + E^{2}(\\hat \\mu) = \\frac{\\sigma^{2}}{n} + \\mu^{2}\\\\\n",
    "E(x_{1}^{2}) = Var(x_{1}) + E^{2}(x_{1}) = \\sigma^{2} + \\mu^{2}\n",
    "\\end{matrix}\\right.\n",
    "    \\end{equation*}\n",
    "    $$\n",
    "    \n",
    "    Now, according to the definition of bias, we have:\n",
    "    \n",
    "    $$\n",
    "    \\begin{align*}\n",
    "    b(\\hat \\sigma^{2}, \\sigma^{2}) &= E(\\hat \\sigma^{2}, \\sigma^{2}) - \\sigma^{2} \\\\\n",
    "    &= E \\left(\\frac{1}{n-1} \\sum_{i=1}^{n} (x_{i} - \\hat \\mu)^{2}\\right) - \\sigma^{2} \\\\\n",
    "    &= \\frac{1}{n-1} E\\left( \\sum_{i=1}^{n} (x_{i} - \\hat \\mu)^{2}\\right) - \\sigma^{2} \\\\\n",
    "    &= \\frac{1}{n-1} E\\left(\\sum_{i=1}^{n} x_{i}^{2} - 2 \\hat \\mu \\sum_{i=1}^{n} x_{i} + n \\hat \\mu^{2}\\right) - \\sigma^{2} \\\\\n",
    "    &= \\frac{1}{n-1} E\\left(\\sum_{i=1}^{n} x_{i}^{2} - 2 \\hat \\mu (n \\hat \\mu) + n \\hat \\mu^{2}\\right) - \\sigma^{2} \\\\\n",
    "    &= \\frac{1}{n-1} E\\left(\\sum_{i=1}^{n} x_{i}^{2} - 2 n \\hat \\mu^{2} + n \\hat \\mu^{2}\\right) - \\sigma^{2} \\\\\n",
    "    &= \\frac{1}{n-1} E\\left(\\sum_{i=1}^{n} x_{i}^{2} - n \\hat \\mu^{2}\\right) - \\sigma^{2} \\\\\n",
    "    &= \\frac{1}{n-1} \\left(n E(x_{1}^{2}) - n E(\\hat \\mu^{2})\\right) - \\sigma^{2} \\\\\n",
    "    &= \\frac{n}{n-1} \\left(E(x_{1}^{2}) - E(\\hat \\mu^{2})\\right) - \\sigma^{2} \\\\\n",
    "    &= \\frac{n}{n-1} \\left(\\sigma^{2} + \\mu^{2} - \\frac{\\sigma^{2}}{n} - \\mu^{2}\\right) - \\sigma^{2} \\\\\n",
    "    &= \\frac{n}{n-1} \\left(\\frac{(n-1) \\sigma^{2}}{n}\\right) - \\sigma^{2} \\\\\n",
    "    &= \\sigma^{2} - \\sigma^{2} \\\\\n",
    "    &= 0\n",
    "    \\end{align*}\n",
    "    $$\n",
    "    \n",
    "    Finally, given that $b(\\hat \\sigma^{2}, \\sigma^{2}) = 0$, the estimator of the variance is also unbiased."
   ]
  },
  {
   "cell_type": "markdown",
   "id": "259c0fed",
   "metadata": {},
   "source": [
    "**2. Give the values obtained for the mean and the standard deviation using these estimators.**"
   ]
  },
  {
   "cell_type": "markdown",
   "id": "a3eb0d53",
   "metadata": {},
   "source": [
    "We first create a separate dataframe for the region of Bretagne and we drop the redundant column 'region' of this new dataframe"
   ]
  },
  {
   "cell_type": "code",
   "execution_count": 12,
   "id": "86296bd9",
   "metadata": {},
   "outputs": [
    {
     "data": {
      "text/html": [
       "<div>\n",
       "<style scoped>\n",
       "    .dataframe tbody tr th:only-of-type {\n",
       "        vertical-align: middle;\n",
       "    }\n",
       "\n",
       "    .dataframe tbody tr th {\n",
       "        vertical-align: top;\n",
       "    }\n",
       "\n",
       "    .dataframe thead th {\n",
       "        text-align: right;\n",
       "    }\n",
       "</style>\n",
       "<table border=\"1\" class=\"dataframe\">\n",
       "  <thead>\n",
       "    <tr style=\"text-align: right;\">\n",
       "      <th></th>\n",
       "      <th>date</th>\n",
       "      <th>consumption</th>\n",
       "    </tr>\n",
       "  </thead>\n",
       "  <tbody>\n",
       "    <tr>\n",
       "      <th>7606</th>\n",
       "      <td>2013-01-01</td>\n",
       "      <td>2595</td>\n",
       "    </tr>\n",
       "    <tr>\n",
       "      <th>7607</th>\n",
       "      <td>2013-01-02</td>\n",
       "      <td>3195</td>\n",
       "    </tr>\n",
       "    <tr>\n",
       "      <th>7608</th>\n",
       "      <td>2013-01-03</td>\n",
       "      <td>3157</td>\n",
       "    </tr>\n",
       "    <tr>\n",
       "      <th>7609</th>\n",
       "      <td>2013-01-04</td>\n",
       "      <td>3142</td>\n",
       "    </tr>\n",
       "    <tr>\n",
       "      <th>7610</th>\n",
       "      <td>2013-01-05</td>\n",
       "      <td>2859</td>\n",
       "    </tr>\n",
       "    <tr>\n",
       "      <th>...</th>\n",
       "      <td>...</td>\n",
       "      <td>...</td>\n",
       "    </tr>\n",
       "    <tr>\n",
       "      <th>11404</th>\n",
       "      <td>2023-05-27</td>\n",
       "      <td>1761</td>\n",
       "    </tr>\n",
       "    <tr>\n",
       "      <th>11405</th>\n",
       "      <td>2023-05-28</td>\n",
       "      <td>1610</td>\n",
       "    </tr>\n",
       "    <tr>\n",
       "      <th>11406</th>\n",
       "      <td>2023-05-29</td>\n",
       "      <td>1677</td>\n",
       "    </tr>\n",
       "    <tr>\n",
       "      <th>11407</th>\n",
       "      <td>2023-05-30</td>\n",
       "      <td>2057</td>\n",
       "    </tr>\n",
       "    <tr>\n",
       "      <th>11408</th>\n",
       "      <td>2023-05-31</td>\n",
       "      <td>2106</td>\n",
       "    </tr>\n",
       "  </tbody>\n",
       "</table>\n",
       "<p>3803 rows × 2 columns</p>\n",
       "</div>"
      ],
      "text/plain": [
       "             date  consumption\n",
       "7606   2013-01-01         2595\n",
       "7607   2013-01-02         3195\n",
       "7608   2013-01-03         3157\n",
       "7609   2013-01-04         3142\n",
       "7610   2013-01-05         2859\n",
       "...           ...          ...\n",
       "11404  2023-05-27         1761\n",
       "11405  2023-05-28         1610\n",
       "11406  2023-05-29         1677\n",
       "11407  2023-05-30         2057\n",
       "11408  2023-05-31         2106\n",
       "\n",
       "[3803 rows x 2 columns]"
      ]
     },
     "execution_count": 12,
     "metadata": {},
     "output_type": "execute_result"
    }
   ],
   "source": [
    "bretagne_data = df_region.copy()\n",
    "bretagne_data.drop(['region'], axis=1, inplace=True)\n",
    "bretagne_data"
   ]
  },
  {
   "cell_type": "markdown",
   "id": "06da21d4",
   "metadata": {},
   "source": [
    "Furthermore, four columns will be added into this dataframe, in order to facilitate the posterior work. From the column 'date', we will add the columns 'day', 'month' and 'year', as well as the 'winter year'"
   ]
  },
  {
   "cell_type": "code",
   "execution_count": 13,
   "id": "755ece3c",
   "metadata": {},
   "outputs": [],
   "source": [
    "def get_day(date):\n",
    "    return int(date[8:])"
   ]
  },
  {
   "cell_type": "code",
   "execution_count": 14,
   "id": "4a5e054e",
   "metadata": {},
   "outputs": [],
   "source": [
    "def get_month(date):\n",
    "    month = int(date[5:7])\n",
    "    switcher = {\n",
    "        1: \"January\",\n",
    "        2: \"February\",\n",
    "        3: \"March\",\n",
    "        4: \"April\",\n",
    "        5: \"May\",\n",
    "        6: \"June\",\n",
    "        7: \"July\",\n",
    "        8: \"August\",\n",
    "        9: \"September\",\n",
    "        10: \"October\",\n",
    "        11: \"November\",\n",
    "        12: \"December\" \n",
    "    }\n",
    "    return switcher.get(month, \"no month data\")"
   ]
  },
  {
   "cell_type": "code",
   "execution_count": 15,
   "id": "ca4a14c0",
   "metadata": {},
   "outputs": [],
   "source": [
    "def get_year(date):\n",
    "    return int(date[:4])"
   ]
  },
  {
   "cell_type": "code",
   "execution_count": 16,
   "id": "a6956391",
   "metadata": {},
   "outputs": [],
   "source": [
    "def get_winter_year(date):\n",
    "    \n",
    "    day = int(date[8:])\n",
    "    month = int(date[5:7])\n",
    "    year = int(date[:4])\n",
    "    \n",
    "    if month == 1 or month == 2 or (month == 3 and day <= 21): \n",
    "        return int(year)\n",
    "\n",
    "    elif (month == 12 and day >= 22):\n",
    "        return int(year + 1)"
   ]
  },
  {
   "cell_type": "code",
   "execution_count": 17,
   "id": "15ed03df",
   "metadata": {},
   "outputs": [],
   "source": [
    "bretagne_data['day'] = df_region['date'].apply(get_day)\n",
    "bretagne_data['month'] = df_region['date'].apply(get_month)\n",
    "bretagne_data['year'] = df_region['date'].apply(get_year)\n",
    "bretagne_data['winter year'] = df_region['date'].apply(get_winter_year)"
   ]
  },
  {
   "cell_type": "markdown",
   "id": "bd867b29",
   "metadata": {},
   "source": [
    "The final dataframe for Bretagne is shown below"
   ]
  },
  {
   "cell_type": "code",
   "execution_count": 18,
   "id": "6249099f",
   "metadata": {},
   "outputs": [
    {
     "data": {
      "text/html": [
       "<div>\n",
       "<style scoped>\n",
       "    .dataframe tbody tr th:only-of-type {\n",
       "        vertical-align: middle;\n",
       "    }\n",
       "\n",
       "    .dataframe tbody tr th {\n",
       "        vertical-align: top;\n",
       "    }\n",
       "\n",
       "    .dataframe thead th {\n",
       "        text-align: right;\n",
       "    }\n",
       "</style>\n",
       "<table border=\"1\" class=\"dataframe\">\n",
       "  <thead>\n",
       "    <tr style=\"text-align: right;\">\n",
       "      <th></th>\n",
       "      <th>date</th>\n",
       "      <th>consumption</th>\n",
       "      <th>day</th>\n",
       "      <th>month</th>\n",
       "      <th>year</th>\n",
       "      <th>winter year</th>\n",
       "    </tr>\n",
       "  </thead>\n",
       "  <tbody>\n",
       "    <tr>\n",
       "      <th>7606</th>\n",
       "      <td>2013-01-01</td>\n",
       "      <td>2595</td>\n",
       "      <td>1</td>\n",
       "      <td>January</td>\n",
       "      <td>2013</td>\n",
       "      <td>2013.0</td>\n",
       "    </tr>\n",
       "    <tr>\n",
       "      <th>7607</th>\n",
       "      <td>2013-01-02</td>\n",
       "      <td>3195</td>\n",
       "      <td>2</td>\n",
       "      <td>January</td>\n",
       "      <td>2013</td>\n",
       "      <td>2013.0</td>\n",
       "    </tr>\n",
       "    <tr>\n",
       "      <th>7608</th>\n",
       "      <td>2013-01-03</td>\n",
       "      <td>3157</td>\n",
       "      <td>3</td>\n",
       "      <td>January</td>\n",
       "      <td>2013</td>\n",
       "      <td>2013.0</td>\n",
       "    </tr>\n",
       "    <tr>\n",
       "      <th>7609</th>\n",
       "      <td>2013-01-04</td>\n",
       "      <td>3142</td>\n",
       "      <td>4</td>\n",
       "      <td>January</td>\n",
       "      <td>2013</td>\n",
       "      <td>2013.0</td>\n",
       "    </tr>\n",
       "    <tr>\n",
       "      <th>7610</th>\n",
       "      <td>2013-01-05</td>\n",
       "      <td>2859</td>\n",
       "      <td>5</td>\n",
       "      <td>January</td>\n",
       "      <td>2013</td>\n",
       "      <td>2013.0</td>\n",
       "    </tr>\n",
       "    <tr>\n",
       "      <th>...</th>\n",
       "      <td>...</td>\n",
       "      <td>...</td>\n",
       "      <td>...</td>\n",
       "      <td>...</td>\n",
       "      <td>...</td>\n",
       "      <td>...</td>\n",
       "    </tr>\n",
       "    <tr>\n",
       "      <th>11404</th>\n",
       "      <td>2023-05-27</td>\n",
       "      <td>1761</td>\n",
       "      <td>27</td>\n",
       "      <td>May</td>\n",
       "      <td>2023</td>\n",
       "      <td>NaN</td>\n",
       "    </tr>\n",
       "    <tr>\n",
       "      <th>11405</th>\n",
       "      <td>2023-05-28</td>\n",
       "      <td>1610</td>\n",
       "      <td>28</td>\n",
       "      <td>May</td>\n",
       "      <td>2023</td>\n",
       "      <td>NaN</td>\n",
       "    </tr>\n",
       "    <tr>\n",
       "      <th>11406</th>\n",
       "      <td>2023-05-29</td>\n",
       "      <td>1677</td>\n",
       "      <td>29</td>\n",
       "      <td>May</td>\n",
       "      <td>2023</td>\n",
       "      <td>NaN</td>\n",
       "    </tr>\n",
       "    <tr>\n",
       "      <th>11407</th>\n",
       "      <td>2023-05-30</td>\n",
       "      <td>2057</td>\n",
       "      <td>30</td>\n",
       "      <td>May</td>\n",
       "      <td>2023</td>\n",
       "      <td>NaN</td>\n",
       "    </tr>\n",
       "    <tr>\n",
       "      <th>11408</th>\n",
       "      <td>2023-05-31</td>\n",
       "      <td>2106</td>\n",
       "      <td>31</td>\n",
       "      <td>May</td>\n",
       "      <td>2023</td>\n",
       "      <td>NaN</td>\n",
       "    </tr>\n",
       "  </tbody>\n",
       "</table>\n",
       "<p>3803 rows × 6 columns</p>\n",
       "</div>"
      ],
      "text/plain": [
       "             date  consumption  day    month  year  winter year\n",
       "7606   2013-01-01         2595    1  January  2013       2013.0\n",
       "7607   2013-01-02         3195    2  January  2013       2013.0\n",
       "7608   2013-01-03         3157    3  January  2013       2013.0\n",
       "7609   2013-01-04         3142    4  January  2013       2013.0\n",
       "7610   2013-01-05         2859    5  January  2013       2013.0\n",
       "...           ...          ...  ...      ...   ...          ...\n",
       "11404  2023-05-27         1761   27      May  2023          NaN\n",
       "11405  2023-05-28         1610   28      May  2023          NaN\n",
       "11406  2023-05-29         1677   29      May  2023          NaN\n",
       "11407  2023-05-30         2057   30      May  2023          NaN\n",
       "11408  2023-05-31         2106   31      May  2023          NaN\n",
       "\n",
       "[3803 rows x 6 columns]"
      ]
     },
     "execution_count": 18,
     "metadata": {},
     "output_type": "execute_result"
    }
   ],
   "source": [
    "bretagne_data"
   ]
  },
  {
   "cell_type": "markdown",
   "id": "517d5dde",
   "metadata": {},
   "source": [
    "Finally, from this dataframe, we compute the values obtained for the mean and the standard deviation using the fournished estimators"
   ]
  },
  {
   "cell_type": "code",
   "execution_count": 19,
   "id": "88c41131",
   "metadata": {},
   "outputs": [
    {
     "name": "stdout",
     "output_type": "stream",
     "text": [
      "Mean = 2546.536155666579\n"
     ]
    }
   ],
   "source": [
    "bretagne_mean = bretagne_data['consumption'].mean()\n",
    "print(f\"Mean = {bretagne_mean}\")"
   ]
  },
  {
   "cell_type": "code",
   "execution_count": 20,
   "id": "84fe7cae",
   "metadata": {},
   "outputs": [
    {
     "name": "stdout",
     "output_type": "stream",
     "text": [
      "Standard Deviation = 604.9429842099305\n"
     ]
    }
   ],
   "source": [
    "bretagne_std_dev = bretagne_data['consumption'].std()\n",
    "print(f\"Standard Deviation = {bretagne_std_dev}\")"
   ]
  },
  {
   "cell_type": "markdown",
   "id": "d0c9e4bf",
   "metadata": {},
   "source": [
    "**3. Generate new data using the corresponding Gaussian model, with the same number of samples.**"
   ]
  },
  {
   "cell_type": "markdown",
   "id": "be0dd21a",
   "metadata": {},
   "source": [
    "To that, the number of samples to be generated is computed and we generate new data following the same Gaussian model"
   ]
  },
  {
   "cell_type": "code",
   "execution_count": 21,
   "id": "baedf3c5",
   "metadata": {},
   "outputs": [],
   "source": [
    "num_samples = len(bretagne_data['consumption'])\n",
    "new_bretagne_data = norm.rvs(loc=bretagne_mean, scale=bretagne_std_dev, size=num_samples)"
   ]
  },
  {
   "cell_type": "markdown",
   "id": "87a6506c",
   "metadata": {},
   "source": [
    "**4. Plot the *kde* (kernel density estimate) of real data and the *kde* of generated data on the same figure.**"
   ]
  },
  {
   "cell_type": "code",
   "execution_count": 22,
   "id": "4bfd9db4",
   "metadata": {},
   "outputs": [
    {
     "data": {
      "image/png": "[encoded data removed]",
      "text/plain": [
       "<Figure size 864x432 with 1 Axes>"
      ]
     },
     "metadata": {
      "needs_background": "light"
     },
     "output_type": "display_data"
    }
   ],
   "source": [
    "plt.figure(figsize=(12,6))\n",
    "sns.kdeplot(data=bretagne_data, x=\"consumption\", label=\"Original Bretagne Data\", color='blue', fill=True)\n",
    "sns.kdeplot(data=new_bretagne_data, label=\"Generated Bretagne Data\", color='red', fill=True)\n",
    "plt.title(region)\n",
    "plt.xlabel(\"Consumption (MW)\")\n",
    "plt.legend() \n",
    "plt.show()"
   ]
  },
  {
   "cell_type": "markdown",
   "id": "fc054c89",
   "metadata": {},
   "source": [
    "**5. Do the same for the days corresponding to winter (from December 22 to March 21), after updating the model.**"
   ]
  },
  {
   "cell_type": "markdown",
   "id": "7fcb70df",
   "metadata": {},
   "source": [
    "We first compute a function called 'get_winter_data' to filter the data corresponding to the winter, i.e., from December 22 to March 21"
   ]
  },
  {
   "cell_type": "code",
   "execution_count": 23,
   "id": "d1b05e7d",
   "metadata": {},
   "outputs": [],
   "source": [
    "def get_winter_data(day, month, year):\n",
    "    full_winter_months = [\"January\", \"February\"]\n",
    "    if month in full_winter_months:\n",
    "        return True\n",
    "    elif (month == \"December\") and (day >=22 and day <= 31):\n",
    "        return True\n",
    "    elif (month == \"March\") and (day >= 1 and day <= 21):\n",
    "        return True\n",
    "    else:\n",
    "        return False"
   ]
  },
  {
   "cell_type": "markdown",
   "id": "5c64aae8",
   "metadata": {},
   "source": [
    "We apply this mask and we create another dataframe corresponding to the winter data from the region of Bretagne, called 'bretagne_winter_data'. It is shown below"
   ]
  },
  {
   "cell_type": "code",
   "execution_count": 24,
   "id": "fc746c8c",
   "metadata": {},
   "outputs": [
    {
     "data": {
      "text/html": [
       "<div>\n",
       "<style scoped>\n",
       "    .dataframe tbody tr th:only-of-type {\n",
       "        vertical-align: middle;\n",
       "    }\n",
       "\n",
       "    .dataframe tbody tr th {\n",
       "        vertical-align: top;\n",
       "    }\n",
       "\n",
       "    .dataframe thead th {\n",
       "        text-align: right;\n",
       "    }\n",
       "</style>\n",
       "<table border=\"1\" class=\"dataframe\">\n",
       "  <thead>\n",
       "    <tr style=\"text-align: right;\">\n",
       "      <th></th>\n",
       "      <th>date</th>\n",
       "      <th>consumption</th>\n",
       "      <th>day</th>\n",
       "      <th>month</th>\n",
       "      <th>year</th>\n",
       "      <th>winter year</th>\n",
       "    </tr>\n",
       "  </thead>\n",
       "  <tbody>\n",
       "    <tr>\n",
       "      <th>7606</th>\n",
       "      <td>2013-01-01</td>\n",
       "      <td>2595</td>\n",
       "      <td>1</td>\n",
       "      <td>January</td>\n",
       "      <td>2013</td>\n",
       "      <td>2013.0</td>\n",
       "    </tr>\n",
       "    <tr>\n",
       "      <th>7607</th>\n",
       "      <td>2013-01-02</td>\n",
       "      <td>3195</td>\n",
       "      <td>2</td>\n",
       "      <td>January</td>\n",
       "      <td>2013</td>\n",
       "      <td>2013.0</td>\n",
       "    </tr>\n",
       "    <tr>\n",
       "      <th>7608</th>\n",
       "      <td>2013-01-03</td>\n",
       "      <td>3157</td>\n",
       "      <td>3</td>\n",
       "      <td>January</td>\n",
       "      <td>2013</td>\n",
       "      <td>2013.0</td>\n",
       "    </tr>\n",
       "    <tr>\n",
       "      <th>7609</th>\n",
       "      <td>2013-01-04</td>\n",
       "      <td>3142</td>\n",
       "      <td>4</td>\n",
       "      <td>January</td>\n",
       "      <td>2013</td>\n",
       "      <td>2013.0</td>\n",
       "    </tr>\n",
       "    <tr>\n",
       "      <th>7610</th>\n",
       "      <td>2013-01-05</td>\n",
       "      <td>2859</td>\n",
       "      <td>5</td>\n",
       "      <td>January</td>\n",
       "      <td>2013</td>\n",
       "      <td>2013.0</td>\n",
       "    </tr>\n",
       "    <tr>\n",
       "      <th>...</th>\n",
       "      <td>...</td>\n",
       "      <td>...</td>\n",
       "      <td>...</td>\n",
       "      <td>...</td>\n",
       "      <td>...</td>\n",
       "      <td>...</td>\n",
       "    </tr>\n",
       "    <tr>\n",
       "      <th>11333</th>\n",
       "      <td>2023-03-17</td>\n",
       "      <td>2609</td>\n",
       "      <td>17</td>\n",
       "      <td>March</td>\n",
       "      <td>2023</td>\n",
       "      <td>2023.0</td>\n",
       "    </tr>\n",
       "    <tr>\n",
       "      <th>11334</th>\n",
       "      <td>2023-03-18</td>\n",
       "      <td>2309</td>\n",
       "      <td>18</td>\n",
       "      <td>March</td>\n",
       "      <td>2023</td>\n",
       "      <td>2023.0</td>\n",
       "    </tr>\n",
       "    <tr>\n",
       "      <th>11335</th>\n",
       "      <td>2023-03-19</td>\n",
       "      <td>2206</td>\n",
       "      <td>19</td>\n",
       "      <td>March</td>\n",
       "      <td>2023</td>\n",
       "      <td>2023.0</td>\n",
       "    </tr>\n",
       "    <tr>\n",
       "      <th>11336</th>\n",
       "      <td>2023-03-20</td>\n",
       "      <td>2672</td>\n",
       "      <td>20</td>\n",
       "      <td>March</td>\n",
       "      <td>2023</td>\n",
       "      <td>2023.0</td>\n",
       "    </tr>\n",
       "    <tr>\n",
       "      <th>11337</th>\n",
       "      <td>2023-03-21</td>\n",
       "      <td>2618</td>\n",
       "      <td>21</td>\n",
       "      <td>March</td>\n",
       "      <td>2023</td>\n",
       "      <td>2023.0</td>\n",
       "    </tr>\n",
       "  </tbody>\n",
       "</table>\n",
       "<p>982 rows × 6 columns</p>\n",
       "</div>"
      ],
      "text/plain": [
       "             date  consumption  day    month  year  winter year\n",
       "7606   2013-01-01         2595    1  January  2013       2013.0\n",
       "7607   2013-01-02         3195    2  January  2013       2013.0\n",
       "7608   2013-01-03         3157    3  January  2013       2013.0\n",
       "7609   2013-01-04         3142    4  January  2013       2013.0\n",
       "7610   2013-01-05         2859    5  January  2013       2013.0\n",
       "...           ...          ...  ...      ...   ...          ...\n",
       "11333  2023-03-17         2609   17    March  2023       2023.0\n",
       "11334  2023-03-18         2309   18    March  2023       2023.0\n",
       "11335  2023-03-19         2206   19    March  2023       2023.0\n",
       "11336  2023-03-20         2672   20    March  2023       2023.0\n",
       "11337  2023-03-21         2618   21    March  2023       2023.0\n",
       "\n",
       "[982 rows x 6 columns]"
      ]
     },
     "execution_count": 24,
     "metadata": {},
     "output_type": "execute_result"
    }
   ],
   "source": [
    "bretagne_winter_data = bretagne_data[bretagne_data.apply(lambda row: get_winter_data(row['day'], row['month'], row['year']), axis=1)]\n",
    "bretagne_winter_data"
   ]
  },
  {
   "cell_type": "markdown",
   "id": "271e94ce",
   "metadata": {},
   "source": [
    "We can now compute the mean and the standard deviation using the estimators into this winter dataframe of the region of Bretagne"
   ]
  },
  {
   "cell_type": "code",
   "execution_count": 25,
   "id": "65cfebb1",
   "metadata": {},
   "outputs": [
    {
     "name": "stdout",
     "output_type": "stream",
     "text": [
      "Mean = 3214.1782077393077\n"
     ]
    }
   ],
   "source": [
    "bretagne_winter_mean = bretagne_winter_data['consumption'].mean()\n",
    "print(f\"Mean = {bretagne_winter_mean}\")"
   ]
  },
  {
   "cell_type": "code",
   "execution_count": 26,
   "id": "4adc1b7b",
   "metadata": {},
   "outputs": [
    {
     "name": "stdout",
     "output_type": "stream",
     "text": [
      "Standard Deviation = 409.4763740819989\n"
     ]
    }
   ],
   "source": [
    "bretagne_winter_std_dev = bretagne_winter_data['consumption'].std()\n",
    "print(f\"Standard Deviation = {bretagne_winter_std_dev}\")"
   ]
  },
  {
   "cell_type": "markdown",
   "id": "e683ed57",
   "metadata": {},
   "source": [
    "New data is now generated from the 'bretagne_winter_data' dataset, corresponding to a Gaussian Model "
   ]
  },
  {
   "cell_type": "code",
   "execution_count": 27,
   "id": "09217eaa",
   "metadata": {},
   "outputs": [],
   "source": [
    "num_samples = len(bretagne_winter_data['consumption'])\n",
    "new_bretagne_winter_data = norm.rvs(loc=bretagne_winter_mean, scale=bretagne_winter_std_dev, size=num_samples, random_state = np.random)"
   ]
  },
  {
   "cell_type": "code",
   "execution_count": 28,
   "id": "803f8270",
   "metadata": {},
   "outputs": [
    {
     "data": {
      "image/png": "[encoded data removed]",
      "text/plain": [
       "<Figure size 864x432 with 1 Axes>"
      ]
     },
     "metadata": {
      "needs_background": "light"
     },
     "output_type": "display_data"
    }
   ],
   "source": [
    "plt.figure(figsize=(12,6))\n",
    "sns.kdeplot(data=bretagne_winter_data, x=\"consumption\", label=\"Original Bretagne Winter Data\", color='blue', fill=True)\n",
    "sns.kdeplot(data=new_bretagne_winter_data, label=\"Generated Bretagne Winter Data\", color='red', fill=True)\n",
    "plt.title(region)\n",
    "plt.xlabel(\"Consumption (MW)\")\n",
    "plt.legend() \n",
    "plt.show()"
   ]
  },
  {
   "cell_type": "markdown",
   "id": "2c341977",
   "metadata": {},
   "source": [
    "**6. In which case the Gaussian model seems more appropriate?**"
   ]
  },
  {
   "cell_type": "markdown",
   "id": "90a015f4",
   "metadata": {},
   "source": [
    "In the context of winter, the Gaussian model appears to be a better fit, possibly attributed to the unique electricity consumption patterns prevalent during this season. Thus, when applying the Gaussian model throughout the entire year, it should be viewed as a composite of Gaussian models, each with differing variances and means corresponding to various seasons. Consequently, when we isolate the dataset exclusively for the winter season, it becomes more homogeneous, making the adoption of the Gaussian model more suitable."
   ]
  },
  {
   "cell_type": "markdown",
   "id": "3b396ff6",
   "metadata": {},
   "source": [
    "## B. Goodness of fit"
   ]
  },
  {
   "cell_type": "markdown",
   "id": "b5d39610",
   "metadata": {},
   "source": [
    "We would like to confirm and quantify the observation of part A.\n",
    "\n",
    "We propose the following metric to measure the dissimilarity between two pdf $f$ and $g$ (with respect to the Lebesgue measure):\n",
    "$$\n",
    "d(f, g) = \\frac 1 2 \\int |f(x) - g(x)| \\mathrm dx.\n",
    "$$"
   ]
  },
  {
   "cell_type": "markdown",
   "id": "87b5684d",
   "metadata": {},
   "source": [
    "**1. Show that $d(f,g) \\in [0,1]$, with $d(f,g)=0$ if and only if $f=g$ almost everywhere (for the Lebesgue measure) and $d(f,g)=1$ if and only if $f$ and $g$ have disjoint supports.**"
   ]
  },
  {
   "cell_type": "markdown",
   "id": "1090388a",
   "metadata": {},
   "source": [
    "* We fist check that $0 \\leq d(f,g) \\leq 1$.\n",
    "\n",
    "    * Lower bound: using the reverese triangular inequality, we obtain\n",
    "\n",
    "    $$\n",
    "    \\begin{equation*}\n",
    "    d(f,g) = \\frac{1}{2} \\int |f(x) - g(x)|dx \\geq \\frac{1}{2} \\left| \\int \\left[f(x) - g(x)\\right] dx\\right| = \\frac{1}{2} \\left| \\int f(x) dx - \\int g(x) dx\\right| = \\frac{1}{2} |1 - 1| = 0 \\\\\n",
    "    \\therefore d(f,g) = \\frac{1}{2} \\int |f(x) - g(x)|dx \\geq 0\n",
    "    \\end{equation*}\n",
    "    $$\n",
    "\n",
    "    * Upper bound: by the triangular inequality, we obtain\n",
    "\n",
    "    $$\n",
    "    \\begin{equation*}\n",
    "    d(f,g) = \\frac{1}{2} \\int |f(x) - g(x)|dx = \\frac{1}{2} \\int |f(x) + (-g)(x)|dx \\leq \\frac{1}{2} \\left( \\int |f(x)|dx + \\int |(-g)(x)|dx\\right) = \\frac{1}{2} \\left( \\int |f(x)|dx + \\int |g(x)|dx\\right)\n",
    "    \\end{equation*}\n",
    "    $$\n",
    "\n",
    "    Since that $f(x)$ and $g(x)$ are probability density functions, $f(x)$ and $g(x)$ are non negative $\\forall x \\in \\mathbb{R}$ and their integral is unitary through their domains. Then, the inequality becomes:\n",
    "\n",
    "    $$\n",
    "    \\begin{equation*}\n",
    "    d(f,g) = \\frac{1}{2} \\int |f(x) - g(x)|dx \\leq \\frac{1}{2} \\left( \\int f(x) dx + \\int g(x) dx\\right) = \\frac{1}{2} (1 + 1) = 1 \\\\\n",
    "    \\therefore d(f,g) = \\frac{1}{2} \\int |f(x) - g(x)|dx \\leq 1\n",
    "    \\end{equation*}\n",
    "    $$\n",
    "\n",
    "    Therefore, it is true that $0 \\leq d(f,g) \\leq 1$."
   ]
  },
  {
   "cell_type": "markdown",
   "id": "2a1da1b9",
   "metadata": {},
   "source": [
    "* Now, we check that if $d(f,g) = 0 \\iff f = g$ almost everywhere (for the Lebesgue measure).\n",
    "\n",
    "    * ($\\Rightarrow$) Direct sense: $d(f,g) = 0 \\Rightarrow f = g$ almost everywhere\n",
    "    \n",
    "    Given that $d(f,g) = 0$ and, assuming for contradiction that $f(x) \\neq g(x)$ $\\forall x$ in a Lebesgue-measurable set E, then, in this set $|f(x) - g(x)| = \\lambda > 0$, with $\\lambda \\in \\mathbb{R_{+}^{\\ast}}$. \n",
    "Consequently, the dissimilarity function will be:\n",
    "\n",
    "    $$\n",
    "    \\begin{equation*}\n",
    "    d(f,g) = \\frac{1}{2} \\int |f(x) - g(x)| dx = \\frac{1}{2} \\int_{E} \\lambda dx > 0\n",
    "    \\end{equation*}\n",
    "    $$\n",
    "    \n",
    "    This result is contraditory, given that, by assumption, $d(f,g) = 0$.\n",
    "\n",
    "    * ($\\Leftarrow$) Inverse sense: $f = g \\Rightarrow d(f,g) = 0$ almost everywhere\n",
    "    \n",
    "    If $f = g$ almost everywhere, then:\n",
    "    $$\n",
    "    \\begin{equation*}\n",
    "    f(x) - g(x) = 0 \\Rightarrow |f(x) - g(x)| = 0 \\Rightarrow \\int |f(x) - g(x)| dx = 0\n",
    "    \\end{equation*}\n",
    "    $$\n",
    "   \n",
    "    Therefore, if $d(f,g) \\Rightarrow f = g$ almost everywhere"
   ]
  },
  {
   "cell_type": "markdown",
   "id": "a7220737",
   "metadata": {},
   "source": [
    "* Finally, we check that $d(f,g) = 1 \\iff f$ and $g$ have disjoint supports\n",
    "\n",
    "$$\n",
    "d(f, g) = 1 \\iff \\int{|f(x)-g(x)|dx} = 2 \\iff\\int_{\\mathrm{Supp}(f)}|{f(x)-g(x)|dx} + \\int_{\\mathrm{Supp}(g)}|{f(x)-g(x)|dx} - \\int_{\\mathrm{Supp}(f) \\cap \\mathrm{Supp}(g)}|{f(x)-g(x)|dx} = 2.\n",
    "$$\n",
    "\n",
    "Given that \n",
    "\n",
    "$$\n",
    "\\int_{\\mathrm{Supp}(f)}|{f(x)-g(x)|dx} \\leq 1 \\text{ and } \\int_{\\mathrm{Supp}(g)}|{f(x)-g(x)|dx} \\leq 1,\n",
    "$$\n",
    "\n",
    "then \n",
    "\n",
    "$$\n",
    "d(f,g) = 1 \\iff \\int_{\\mathrm{Supp}(f) \\cap \\mathrm{Supp}(g)}|{f(x)-g(x)|dx} = 0.\n",
    "$$\n",
    "\n",
    "Now, let us assume for contradiction that $\\mathrm{Supp}(f) \\cap \\mathrm{Supp}(g) \\neq \\emptyset$, then:\n",
    "\n",
    "$$\n",
    "\\int_{\\mathrm{Supp}(f)}|{f(x)-g(x)|dx} = \\int_{\\mathrm{Supp}(f) \\cap \\mathrm{Supp}(g)}|{f(x)-g(x)|dx} + \\int_{\\mathrm{Supp}(f)\\setminus \\mathrm{Supp}(f) \\cap \\mathrm{Supp}(g)}|{f(x)-g(x)|dx} \\\\\n",
    "\\int_{\\mathrm{Supp}(f)}|{f(x)-g(x)|dx} = \\int_{\\mathrm{Supp}(f)\\setminus \\mathrm{Supp}(f) \\cap \\mathrm{Supp}(g)}|{f(x)-g(x)|dx} = \\int_{\\mathrm{Supp}(f)\\setminus \\mathrm{Supp}(f) \\cap \\mathrm{Supp}(g)}{f(x)dx} < 1\n",
    "$$\n",
    "   \n",
    "This is contradictory, which leads to the fact that $d(f,g) = 1 \\iff f$ and $g$ have disjoint supports, i.e., $\\mathrm{Supp}(f) \\cap \\mathrm{Supp}(g) = \\emptyset$.\n",
    "    \n",
    "    \n",
    "\n",
    "    "
   ]
  },
  {
   "cell_type": "markdown",
   "id": "ae7d158a",
   "metadata": {},
   "source": [
    "**2. For the region Bretagne, compute the dissimilarity between the *kde* of real data and the density of the Gaussian model.**"
   ]
  },
  {
   "cell_type": "markdown",
   "id": "1211057f",
   "metadata": {},
   "source": [
    "The dissimilarity function is first defined"
   ]
  },
  {
   "cell_type": "code",
   "execution_count": 29,
   "id": "85083751",
   "metadata": {},
   "outputs": [],
   "source": [
    "def d(f, g, dx):\n",
    "    return 0.5 * np.sum(np.abs(f - g)) * dx"
   ]
  },
  {
   "cell_type": "markdown",
   "id": "3e588352",
   "metadata": {},
   "source": [
    "Now, in order to compute de value of the dissimilarity between $f$ and $g$, the inferior and superior limits of integration are defined. We also determine the number and the widht of each rectangle of the integration. Finally, the equations of $f$ and $g$ as functions of $x$ are computed and the dissimilarity between then is calculated"
   ]
  },
  {
   "cell_type": "code",
   "execution_count": 30,
   "id": "3011bd66",
   "metadata": {},
   "outputs": [
    {
     "name": "stdout",
     "output_type": "stream",
     "text": [
      "Dissimilarity Bretagne = 0.17902221387461914\n"
     ]
    }
   ],
   "source": [
    "inferior_integration_limit = min(min(np.array(bretagne_data['consumption'])), min(new_bretagne_data))\n",
    "superior_integration_limit = max(max(np.array(bretagne_data['consumption'])), max(new_bretagne_data))\n",
    "\n",
    "number_samples = 5000\n",
    "x = np.linspace(inferior_integration_limit, superior_integration_limit, number_samples)\n",
    "dx = (superior_integration_limit - inferior_integration_limit) / number_samples\n",
    "\n",
    "kde_f_values = gaussian_kde(np.array(bretagne_data['consumption'])).pdf(x)\n",
    "pdf_g_values = norm.pdf(x, loc=bretagne_mean, scale=bretagne_std_dev)\n",
    "print(f\"Dissimilarity Bretagne = {d(kde_f_values, pdf_g_values, dx)}\")"
   ]
  },
  {
   "cell_type": "markdown",
   "id": "f8817106",
   "metadata": {},
   "source": [
    "**3. Do the same for the region Bretagne in winter and check your conclusion of part A.**"
   ]
  },
  {
   "cell_type": "code",
   "execution_count": 31,
   "id": "7b15a902",
   "metadata": {},
   "outputs": [
    {
     "name": "stdout",
     "output_type": "stream",
     "text": [
      "Dissimilarity Bretagne Winter = 0.029528793721854078\n"
     ]
    }
   ],
   "source": [
    "inferior_integration_limit = min(min(np.array(bretagne_winter_data['consumption'])), min(new_bretagne_winter_data))\n",
    "superior_integration_limit = max(max(np.array(bretagne_winter_data['consumption'])), max(new_bretagne_winter_data))\n",
    "\n",
    "number_samples = 5000\n",
    "x = np.linspace(inferior_integration_limit, superior_integration_limit, number_samples)\n",
    "dx = (superior_integration_limit - inferior_integration_limit) / number_samples\n",
    "\n",
    "kde_f_values = gaussian_kde(np.array(bretagne_winter_data['consumption'])).pdf(x)\n",
    "pdf_g_values = norm.pdf(x, loc=bretagne_winter_mean, scale=bretagne_winter_std_dev)\n",
    "print(f\"Dissimilarity Bretagne Winter = {d(kde_f_values, pdf_g_values, dx)}\")"
   ]
  },
  {
   "cell_type": "markdown",
   "id": "7d78fec0",
   "metadata": {},
   "source": [
    "**4. Do the same for all regions. Give the result as a single dataframe.**"
   ]
  },
  {
   "cell_type": "markdown",
   "id": "d1af9ff4",
   "metadata": {},
   "source": [
    "Firstly, four columns are added in the original dataframe. Given a date, it was splitted into three columns, which are *day*, *month* and *year*. In addtion, the fourth column added is the *winter year*, which stores winter year of the correspondent date. Finally, only the datapoints corresponding to a winter date were picked up and stored in another dataframe called *winter_data*"
   ]
  },
  {
   "cell_type": "code",
   "execution_count": 32,
   "id": "fcd7e90e",
   "metadata": {},
   "outputs": [
    {
     "data": {
      "text/html": [
       "<div>\n",
       "<style scoped>\n",
       "    .dataframe tbody tr th:only-of-type {\n",
       "        vertical-align: middle;\n",
       "    }\n",
       "\n",
       "    .dataframe tbody tr th {\n",
       "        vertical-align: top;\n",
       "    }\n",
       "\n",
       "    .dataframe thead th {\n",
       "        text-align: right;\n",
       "    }\n",
       "</style>\n",
       "<table border=\"1\" class=\"dataframe\">\n",
       "  <thead>\n",
       "    <tr style=\"text-align: right;\">\n",
       "      <th></th>\n",
       "      <th>region</th>\n",
       "      <th>date</th>\n",
       "      <th>consumption</th>\n",
       "      <th>day</th>\n",
       "      <th>month</th>\n",
       "      <th>year</th>\n",
       "      <th>winter year</th>\n",
       "    </tr>\n",
       "  </thead>\n",
       "  <tbody>\n",
       "    <tr>\n",
       "      <th>0</th>\n",
       "      <td>Auvergne-Rhône-Alpes</td>\n",
       "      <td>2013-01-01</td>\n",
       "      <td>7560</td>\n",
       "      <td>1</td>\n",
       "      <td>January</td>\n",
       "      <td>2013</td>\n",
       "      <td>2013.0</td>\n",
       "    </tr>\n",
       "    <tr>\n",
       "      <th>1</th>\n",
       "      <td>Auvergne-Rhône-Alpes</td>\n",
       "      <td>2013-01-02</td>\n",
       "      <td>8700</td>\n",
       "      <td>2</td>\n",
       "      <td>January</td>\n",
       "      <td>2013</td>\n",
       "      <td>2013.0</td>\n",
       "    </tr>\n",
       "    <tr>\n",
       "      <th>2</th>\n",
       "      <td>Auvergne-Rhône-Alpes</td>\n",
       "      <td>2013-01-03</td>\n",
       "      <td>9367</td>\n",
       "      <td>3</td>\n",
       "      <td>January</td>\n",
       "      <td>2013</td>\n",
       "      <td>2013.0</td>\n",
       "    </tr>\n",
       "    <tr>\n",
       "      <th>3</th>\n",
       "      <td>Auvergne-Rhône-Alpes</td>\n",
       "      <td>2013-01-04</td>\n",
       "      <td>9133</td>\n",
       "      <td>4</td>\n",
       "      <td>January</td>\n",
       "      <td>2013</td>\n",
       "      <td>2013.0</td>\n",
       "    </tr>\n",
       "    <tr>\n",
       "      <th>4</th>\n",
       "      <td>Auvergne-Rhône-Alpes</td>\n",
       "      <td>2013-01-05</td>\n",
       "      <td>8283</td>\n",
       "      <td>5</td>\n",
       "      <td>January</td>\n",
       "      <td>2013</td>\n",
       "      <td>2013.0</td>\n",
       "    </tr>\n",
       "    <tr>\n",
       "      <th>...</th>\n",
       "      <td>...</td>\n",
       "      <td>...</td>\n",
       "      <td>...</td>\n",
       "      <td>...</td>\n",
       "      <td>...</td>\n",
       "      <td>...</td>\n",
       "      <td>...</td>\n",
       "    </tr>\n",
       "    <tr>\n",
       "      <th>45560</th>\n",
       "      <td>Île-de-France</td>\n",
       "      <td>2023-03-17</td>\n",
       "      <td>7780</td>\n",
       "      <td>17</td>\n",
       "      <td>March</td>\n",
       "      <td>2023</td>\n",
       "      <td>2023.0</td>\n",
       "    </tr>\n",
       "    <tr>\n",
       "      <th>45561</th>\n",
       "      <td>Île-de-France</td>\n",
       "      <td>2023-03-18</td>\n",
       "      <td>7104</td>\n",
       "      <td>18</td>\n",
       "      <td>March</td>\n",
       "      <td>2023</td>\n",
       "      <td>2023.0</td>\n",
       "    </tr>\n",
       "    <tr>\n",
       "      <th>45562</th>\n",
       "      <td>Île-de-France</td>\n",
       "      <td>2023-03-19</td>\n",
       "      <td>7168</td>\n",
       "      <td>19</td>\n",
       "      <td>March</td>\n",
       "      <td>2023</td>\n",
       "      <td>2023.0</td>\n",
       "    </tr>\n",
       "    <tr>\n",
       "      <th>45563</th>\n",
       "      <td>Île-de-France</td>\n",
       "      <td>2023-03-20</td>\n",
       "      <td>8218</td>\n",
       "      <td>20</td>\n",
       "      <td>March</td>\n",
       "      <td>2023</td>\n",
       "      <td>2023.0</td>\n",
       "    </tr>\n",
       "    <tr>\n",
       "      <th>45564</th>\n",
       "      <td>Île-de-France</td>\n",
       "      <td>2023-03-21</td>\n",
       "      <td>7783</td>\n",
       "      <td>21</td>\n",
       "      <td>March</td>\n",
       "      <td>2023</td>\n",
       "      <td>2023.0</td>\n",
       "    </tr>\n",
       "  </tbody>\n",
       "</table>\n",
       "<p>11784 rows × 7 columns</p>\n",
       "</div>"
      ],
      "text/plain": [
       "                     region        date  consumption  day    month  year  \\\n",
       "0      Auvergne-Rhône-Alpes  2013-01-01         7560    1  January  2013   \n",
       "1      Auvergne-Rhône-Alpes  2013-01-02         8700    2  January  2013   \n",
       "2      Auvergne-Rhône-Alpes  2013-01-03         9367    3  January  2013   \n",
       "3      Auvergne-Rhône-Alpes  2013-01-04         9133    4  January  2013   \n",
       "4      Auvergne-Rhône-Alpes  2013-01-05         8283    5  January  2013   \n",
       "...                     ...         ...          ...  ...      ...   ...   \n",
       "45560         Île-de-France  2023-03-17         7780   17    March  2023   \n",
       "45561         Île-de-France  2023-03-18         7104   18    March  2023   \n",
       "45562         Île-de-France  2023-03-19         7168   19    March  2023   \n",
       "45563         Île-de-France  2023-03-20         8218   20    March  2023   \n",
       "45564         Île-de-France  2023-03-21         7783   21    March  2023   \n",
       "\n",
       "       winter year  \n",
       "0           2013.0  \n",
       "1           2013.0  \n",
       "2           2013.0  \n",
       "3           2013.0  \n",
       "4           2013.0  \n",
       "...            ...  \n",
       "45560       2023.0  \n",
       "45561       2023.0  \n",
       "45562       2023.0  \n",
       "45563       2023.0  \n",
       "45564       2023.0  \n",
       "\n",
       "[11784 rows x 7 columns]"
      ]
     },
     "execution_count": 32,
     "metadata": {},
     "output_type": "execute_result"
    }
   ],
   "source": [
    "df['day'] = df['date'].apply(get_day)\n",
    "df['month'] = df['date'].apply(get_month)\n",
    "df['year'] = df['date'].apply(get_year)\n",
    "df['winter year'] = df['date'].apply(get_winter_year)\n",
    "\n",
    "df_winter_data = df[df.apply(lambda row: get_winter_data(row['day'], row['month'], row['year']), axis=1)]\n",
    "df_winter_data"
   ]
  },
  {
   "cell_type": "markdown",
   "id": "3988f73c",
   "metadata": {},
   "source": [
    "In order to do same for all regions, an analogous procedure was adopted. The only difference is that a dictionary was instantiated to store the name of the region together with its dissimilarity value. Finnaly, this dictionary was used to build the dissimilarity dataframe"
   ]
  },
  {
   "cell_type": "code",
   "execution_count": 33,
   "id": "165c16af",
   "metadata": {},
   "outputs": [],
   "source": [
    "dissimilarity_results = {}\n",
    "\n",
    "for region in regions:\n",
    "\n",
    "    winter_data_aux = np.array(df_winter_data[df_winter_data['region'] == region]['consumption'])\n",
    "    new_winter_data_aux = norm.rvs(loc=winter_data_aux.mean(), scale=winter_data_aux.std(), size=len(winter_data_aux))\n",
    "\n",
    "    inferior_integration_limit = min((np.array(winter_data_aux)).min(), min(new_winter_data_aux))\n",
    "    superior_integration_limit = max((np.array(winter_data_aux)).min(), max(new_winter_data_aux))\n",
    "\n",
    "    number_samples = 5000\n",
    "    x = np.linspace(inferior_integration_limit, superior_integration_limit, number_samples)\n",
    "    dx = (superior_integration_limit - inferior_integration_limit) / number_samples\n",
    "\n",
    "    kde_f_values = gaussian_kde(winter_data_aux).pdf(x)\n",
    "    pdf_g_values = norm.pdf(x, loc=winter_data_aux.mean(), scale=winter_data_aux.std())\n",
    "\n",
    "    dissimilarity_value = d(kde_f_values, pdf_g_values, dx)\n",
    "    dissimilarity_results[region] = dissimilarity_value\n",
    "    \n",
    "    dissimilarity_df = pd.DataFrame(list(dissimilarity_results.items()), columns=['Region', 'Dissimilarity'])"
   ]
  },
  {
   "cell_type": "code",
   "execution_count": 34,
   "id": "b16bf46d",
   "metadata": {},
   "outputs": [
    {
     "data": {
      "text/html": [
       "<div>\n",
       "<style scoped>\n",
       "    .dataframe tbody tr th:only-of-type {\n",
       "        vertical-align: middle;\n",
       "    }\n",
       "\n",
       "    .dataframe tbody tr th {\n",
       "        vertical-align: top;\n",
       "    }\n",
       "\n",
       "    .dataframe thead th {\n",
       "        text-align: right;\n",
       "    }\n",
       "</style>\n",
       "<table border=\"1\" class=\"dataframe\">\n",
       "  <thead>\n",
       "    <tr style=\"text-align: right;\">\n",
       "      <th></th>\n",
       "      <th>Dissimilarity</th>\n",
       "    </tr>\n",
       "    <tr>\n",
       "      <th>Region</th>\n",
       "      <th></th>\n",
       "    </tr>\n",
       "  </thead>\n",
       "  <tbody>\n",
       "    <tr>\n",
       "      <th>Auvergne-Rhône-Alpes</th>\n",
       "      <td>0.037077</td>\n",
       "    </tr>\n",
       "    <tr>\n",
       "      <th>Bourgogne-Franche-Comté</th>\n",
       "      <td>0.037253</td>\n",
       "    </tr>\n",
       "    <tr>\n",
       "      <th>Bretagne</th>\n",
       "      <td>0.028814</td>\n",
       "    </tr>\n",
       "    <tr>\n",
       "      <th>Centre-Val de Loire</th>\n",
       "      <td>0.042018</td>\n",
       "    </tr>\n",
       "    <tr>\n",
       "      <th>Grand Est</th>\n",
       "      <td>0.038361</td>\n",
       "    </tr>\n",
       "    <tr>\n",
       "      <th>Hauts-de-France</th>\n",
       "      <td>0.027169</td>\n",
       "    </tr>\n",
       "    <tr>\n",
       "      <th>Normandie</th>\n",
       "      <td>0.042404</td>\n",
       "    </tr>\n",
       "    <tr>\n",
       "      <th>Nouvelle-Aquitaine</th>\n",
       "      <td>0.053277</td>\n",
       "    </tr>\n",
       "    <tr>\n",
       "      <th>Occitanie</th>\n",
       "      <td>0.063062</td>\n",
       "    </tr>\n",
       "    <tr>\n",
       "      <th>Pays de la Loire</th>\n",
       "      <td>0.038361</td>\n",
       "    </tr>\n",
       "    <tr>\n",
       "      <th>Provence-Alpes-Côte d'Azur</th>\n",
       "      <td>0.034641</td>\n",
       "    </tr>\n",
       "    <tr>\n",
       "      <th>Île-de-France</th>\n",
       "      <td>0.051069</td>\n",
       "    </tr>\n",
       "  </tbody>\n",
       "</table>\n",
       "</div>"
      ],
      "text/plain": [
       "                            Dissimilarity\n",
       "Region                                   \n",
       "Auvergne-Rhône-Alpes             0.037077\n",
       "Bourgogne-Franche-Comté          0.037253\n",
       "Bretagne                         0.028814\n",
       "Centre-Val de Loire              0.042018\n",
       "Grand Est                        0.038361\n",
       "Hauts-de-France                  0.027169\n",
       "Normandie                        0.042404\n",
       "Nouvelle-Aquitaine               0.053277\n",
       "Occitanie                        0.063062\n",
       "Pays de la Loire                 0.038361\n",
       "Provence-Alpes-Côte d'Azur       0.034641\n",
       "Île-de-France                    0.051069"
      ]
     },
     "execution_count": 34,
     "metadata": {},
     "output_type": "execute_result"
    }
   ],
   "source": [
    "dissimilarity_df.set_index('Region', inplace=True)\n",
    "dissimilarity_df"
   ]
  },
  {
   "cell_type": "markdown",
   "id": "3f0d3f61",
   "metadata": {},
   "source": [
    "**5. Which region is best fitted by a Gaussian model in winter?**"
   ]
  },
  {
   "cell_type": "markdown",
   "id": "1c1bea47",
   "metadata": {},
   "source": [
    "The region that is best fitted by a Gaussian model in winter is Hauts-de-France, because it has the lowest dissimilarity value, as shown in the output below"
   ]
  },
  {
   "cell_type": "code",
   "execution_count": 35,
   "id": "cb6c8a01",
   "metadata": {},
   "outputs": [
    {
     "data": {
      "text/html": [
       "<div>\n",
       "<style scoped>\n",
       "    .dataframe tbody tr th:only-of-type {\n",
       "        vertical-align: middle;\n",
       "    }\n",
       "\n",
       "    .dataframe tbody tr th {\n",
       "        vertical-align: top;\n",
       "    }\n",
       "\n",
       "    .dataframe thead th {\n",
       "        text-align: right;\n",
       "    }\n",
       "</style>\n",
       "<table border=\"1\" class=\"dataframe\">\n",
       "  <thead>\n",
       "    <tr style=\"text-align: right;\">\n",
       "      <th></th>\n",
       "      <th>Dissimilarity</th>\n",
       "    </tr>\n",
       "    <tr>\n",
       "      <th>Region</th>\n",
       "      <th></th>\n",
       "    </tr>\n",
       "  </thead>\n",
       "  <tbody>\n",
       "    <tr>\n",
       "      <th>Hauts-de-France</th>\n",
       "      <td>0.027169</td>\n",
       "    </tr>\n",
       "  </tbody>\n",
       "</table>\n",
       "</div>"
      ],
      "text/plain": [
       "                 Dissimilarity\n",
       "Region                        \n",
       "Hauts-de-France       0.027169"
      ]
     },
     "execution_count": 35,
     "metadata": {},
     "output_type": "execute_result"
    }
   ],
   "source": [
    "dissimilarity_df[dissimilarity_df['Dissimilarity'] == min(dissimilarity_df['Dissimilarity'])]"
   ]
  },
  {
   "cell_type": "markdown",
   "id": "aff086e4",
   "metadata": {},
   "source": [
    "**6. For this region and this season, plot the *kde* of real data and the *kde* of generated data on the same figure, as in part A.**"
   ]
  },
  {
   "cell_type": "code",
   "execution_count": 36,
   "id": "5eefc237",
   "metadata": {},
   "outputs": [],
   "source": [
    "winter_data_aux = np.array(df_winter_data[df_winter_data['region'] == 'Hauts-de-France']['consumption'])\n",
    "new_winter_data_aux = norm.rvs(loc=winter_data_aux.mean(), scale=winter_data_aux.std(), size=len(winter_data_aux))\n",
    "\n",
    "inferior_integration_limit = min((np.array(winter_data_aux)).min(), min(new_winter_data_aux))\n",
    "superior_integration_limit = max((np.array(winter_data_aux)).min(), max(new_winter_data_aux))\n",
    "\n",
    "number_samples = 5000\n",
    "x = np.linspace(inferior_integration_limit, superior_integration_limit, number_samples)\n",
    "dx = (superior_integration_limit - inferior_integration_limit) / number_samples\n",
    "\n",
    "pdf_g_values = norm.rvs(loc=winter_data_aux.mean(), scale=winter_data_aux.std(), size=number_samples)"
   ]
  },
  {
   "cell_type": "code",
   "execution_count": 37,
   "id": "6f08c58e",
   "metadata": {},
   "outputs": [
    {
     "data": {
      "image/png": "[encoded data removed]",
      "text/plain": [
       "<Figure size 864x432 with 1 Axes>"
      ]
     },
     "metadata": {
      "needs_background": "light"
     },
     "output_type": "display_data"
    }
   ],
   "source": [
    "plt.figure(figsize=(12,6))\n",
    "sns.kdeplot(data=winter_data_aux, label=\"Original Hauts-de-France Winter Data\", color='blue', fill=True)\n",
    "sns.kdeplot(data=pdf_g_values, label=\"Generated Hauts-de-France Winter Data\", color='red', fill=True)\n",
    "plt.title('Hauts-de-France')\n",
    "plt.xlabel(\"Consumption (MW)\")\n",
    "plt.legend() \n",
    "plt.show()"
   ]
  },
  {
   "cell_type": "markdown",
   "id": "838fb2d1",
   "metadata": {},
   "source": [
    "## C. Bayesian statistics"
   ]
  },
  {
   "cell_type": "markdown",
   "id": "92daddb8",
   "metadata": {},
   "source": [
    "We would like to include prior knowledge on the estimation, using Bayesian statistics.\n",
    "\n",
    "Consider the region Bretagne in winter. We focus on the mean $\\mu$, assuming the standard deviation is known and equal to $\\sigma=400$MW. We assume a Gaussian prior on $\\mu$ with mean $\\mu_0=3500$MW and standard deviation $\\sigma_0=500$MW. \n",
    "\n",
    "**1. Give the posterior distribution of $\\mu$, using the parameters $\\sigma$, $\\mu_0$, $\\sigma_0$ and the $n$ observations $x_1,\\ldots,x_n$.**"
   ]
  },
  {
   "cell_type": "markdown",
   "id": "2d66e4b9",
   "metadata": {},
   "source": [
    "From what was fournished, the prior distributiuon on $\\mu$ is Gaussian, $\\mu \\sim N(\\mu_{0}, \\sigma_{0}^2)$, and its prior is given by:\n",
    "$$\n",
    "\\begin{equation}\n",
    "\\pi(\\mu) \\propto exp \\left[-\\frac{1}{2\\sigma_{0}^{2}}(\\mu-\\mu_{0}^2)\\right]\n",
    "\\end{equation}\n",
    "$$\n",
    "\n",
    "In addition, $X \\sim N(\\mu, \\sigma^2)$, and considering n i.i.d. observations, its probability density function will be:\n",
    "$$\n",
    "\\begin{equation}\n",
    "p(x|\\mu) \\propto exp \\left[ -\\frac{1}{2\\sigma^2} \\sum_{i=1}^{n} (x_{i}-\\mu)^{2}\\right]\n",
    "\\end{equation}\n",
    "$$\n",
    "\n",
    "Now the posterior can be computed as the product of the two previous distributions:\n",
    "$$\n",
    "\\begin{align}\n",
    "\\pi(\\mu|x) &\\propto \\pi(\\mu) \\times p(x|\\mu) \\\\\n",
    "           &\\propto exp \\left[-\\frac{1}{2\\sigma_{0}^{2}}(\\mu-\\mu_{0}^2)\\right] \\times exp \\left[ -\\frac{1}{2\\sigma^2} \\sum_{i=1}^{n} (x_{i}-\\mu)^{2}\\right] \\\\\n",
    "           &\\propto exp \\left[-\\frac{1}{2\\sigma_{0}^{2}}(\\mu^{2}-2\\mu_{0}\\mu+\\mu_{0}^{2})-\\frac{1}{2\\sigma^2}\\sum_{i=1}^{n}\\left(x_{i}^{2}-2\\mu x_{i} +\\mu^{2}\\right)\\right] \\\\ \n",
    "           &\\propto exp \\left[-\\frac{1}{2\\sigma_{0}^{2}}\\mu^{2}+\\frac{\\mu_{0}}{\\sigma_{0}^{2}}\\mu-\\frac{\\mu_{0}^{2}}{2\\sigma_{0}^{2}}-\\frac{1}{2\\sigma^2}\\sum_{i=1}^{n}x_{i}^{2}+\\left(\\frac{1}{\\sigma^{2}}\\sum_{i=1}^{n}x_{i}\\right)\\mu-\\frac{n}{2\\sigma^{2}}\\mu^{2}\\right] \\\\\n",
    "           &\\propto exp \\left[-\\frac{1}{2}\\left(\\frac{1}{\\sigma_{0}^{2}}+\\frac{n}{\\sigma^{2}}\\right)\\mu^{2}+\\left(\\frac{\\mu_{0}}{\\sigma_{0}^{2}}+\\frac{1}{\\sigma^{2}}\\sum_{i=1}^{n}x_{i}\\right)\\mu-\\frac{1}{2}\\left(\\frac{\\mu_{0}^{2}}{\\sigma_{0}^{2}}+\\frac{1}{\\sigma^{2}}\\sum_{i=1}^{n}x_{i}^{2}\\right)\\right] \\\\\n",
    "           &\\propto exp \\left[-\\frac{1}{2}\\left(\\frac{1}{\\sigma_{0}^{2}}+\\frac{n}{\\sigma^{2}}\\right)\\left(\\mu^{2}-2\\left(\\frac{\\frac{\\mu_{0}}{\\sigma_{0}^{2}}+\\frac{1}{\\sigma^{2}}\\sum_{i=1}^{n}x_{i}}{\\frac{1}{\\sigma_{0}^{2}}+\\frac{n}{\\sigma^{2}}}\\right)\\mu+\\frac{\\frac{\\mu_{0}^{2}}{\\sigma_{0}^{2}}+\\frac{1}{\\sigma^2}\\sum_{i=1}^{n}x_{i}^{2}}{\\frac{1}{\\sigma_{0}^{2}}+\\frac{n}{\\sigma^{2}}}\\right)\\right] \\\\\n",
    "           &\\propto exp \\left[-\\frac{1}{2\\left(\\frac{1}{\\frac{1}{\\sigma_{0}^{2}}+\\frac{n}{\\sigma^{2}}}\\right)}\\left(\\mu^{2}-2\\left(\\frac{\\frac{\\mu_{0}}{\\sigma_{0}^{2}}+\\frac{1}{\\sigma^{2}}\\sum_{i=1}^{n}x_{i}}{\\frac{1}{\\sigma_{0}^{2}}+\\frac{n}{\\sigma^{2}}}\\right)\\mu+\\frac{\\frac{\\mu_{0}^{2}}{\\sigma_{0}^{2}}+\\frac{1}{\\sigma^2}\\sum_{i=1}^{n}x_{i}^{2}}{\\frac{1}{\\sigma_{0}^{2}}+\\frac{n}{\\sigma^{2}}}\\right)\\right]\n",
    "\\end{align}\n",
    "$$\n",
    "\n",
    "This means that the posterior has also a Gaussian Distribution, given by:\n",
    "\n",
    "$$\n",
    "\\begin{equation}\n",
    "\\mu|x \\sim N\\left(\\frac{\\frac{\\mu_{0}}{\\sigma_{0}^{2}}+\\frac{1}{\\sigma^{2}}\\sum_{i=1}^{n}x_{i}}{\\frac{1}{\\sigma_{0}^{2}}+\\frac{n}{\\sigma^{2}}},\\frac{1}{\\frac{1}{\\sigma_{0}^{2}}+\\frac{n}{\\sigma^{2}}}\\right)\n",
    "\\end{equation}\n",
    "$$"
   ]
  },
  {
   "cell_type": "code",
   "execution_count": 38,
   "id": "c3ff958f",
   "metadata": {},
   "outputs": [],
   "source": [
    "sigma = 400\n",
    "sigma_0 = 500\n",
    "mu_0 = 3500\n",
    "sum_xi = bretagne_winter_data['consumption'].sum()\n",
    "n = len(bretagne_winter_data['consumption'])"
   ]
  },
  {
   "cell_type": "code",
   "execution_count": 39,
   "id": "648e4f7e",
   "metadata": {},
   "outputs": [
    {
     "name": "stdout",
     "output_type": "stream",
     "text": [
      "Posterior mean = 3214.36436538305\n"
     ]
    }
   ],
   "source": [
    "posterior_mean = ((mu_0 / (sigma_0 ** 2)) + (sum_xi) / (sigma ** 2)) / ((1 / (sigma_0 ** 2)) + (n / (sigma ** 2)))\n",
    "print(f\"Posterior mean = {posterior_mean}\")"
   ]
  },
  {
   "cell_type": "code",
   "execution_count": 40,
   "id": "63aa32ba",
   "metadata": {},
   "outputs": [
    {
     "name": "stdout",
     "output_type": "stream",
     "text": [
      "Posterior variance = 162.82667100871123\n"
     ]
    }
   ],
   "source": [
    "posterior_variance = 1 / ((1 / (sigma_0 ** 2)) + (n / (sigma ** 2)))\n",
    "print(f\"Posterior variance = {posterior_variance}\")"
   ]
  },
  {
   "cell_type": "markdown",
   "id": "32ea49cb",
   "metadata": {},
   "source": [
    "After having computed the values numerically, we arrive at the following distribution:\n",
    "\n",
    "$$\n",
    "\\begin{equation}\n",
    "\\mu|x \\sim N (3214.36,162.83)\n",
    "\\end{equation}\n",
    "$$"
   ]
  },
  {
   "cell_type": "markdown",
   "id": "9ce2daad",
   "metadata": {},
   "source": [
    "**2. Give the parameters of the posterior distribution obtained for each year from 2013 to 2023, considered independently, in a single dataframe.**"
   ]
  },
  {
   "cell_type": "markdown",
   "id": "aaee0b77",
   "metadata": {},
   "source": [
    "We first compute a dataframe that contains the total energy consumption, during the winter, in the region of Bretagne, per year"
   ]
  },
  {
   "cell_type": "code",
   "execution_count": 41,
   "id": "7bd2ae38",
   "metadata": {},
   "outputs": [
    {
     "data": {
      "text/html": [
       "<div>\n",
       "<style scoped>\n",
       "    .dataframe tbody tr th:only-of-type {\n",
       "        vertical-align: middle;\n",
       "    }\n",
       "\n",
       "    .dataframe tbody tr th {\n",
       "        vertical-align: top;\n",
       "    }\n",
       "\n",
       "    .dataframe thead th {\n",
       "        text-align: right;\n",
       "    }\n",
       "</style>\n",
       "<table border=\"1\" class=\"dataframe\">\n",
       "  <thead>\n",
       "    <tr style=\"text-align: right;\">\n",
       "      <th></th>\n",
       "      <th>total consumption (sum_xi)</th>\n",
       "    </tr>\n",
       "    <tr>\n",
       "      <th>winter year</th>\n",
       "      <th></th>\n",
       "    </tr>\n",
       "  </thead>\n",
       "  <tbody>\n",
       "    <tr>\n",
       "      <th>2013.0</th>\n",
       "      <td>271547</td>\n",
       "    </tr>\n",
       "    <tr>\n",
       "      <th>2014.0</th>\n",
       "      <td>278303</td>\n",
       "    </tr>\n",
       "    <tr>\n",
       "      <th>2015.0</th>\n",
       "      <td>290489</td>\n",
       "    </tr>\n",
       "    <tr>\n",
       "      <th>2016.0</th>\n",
       "      <td>284938</td>\n",
       "    </tr>\n",
       "    <tr>\n",
       "      <th>2017.0</th>\n",
       "      <td>294680</td>\n",
       "    </tr>\n",
       "    <tr>\n",
       "      <th>2018.0</th>\n",
       "      <td>299473</td>\n",
       "    </tr>\n",
       "    <tr>\n",
       "      <th>2019.0</th>\n",
       "      <td>285989</td>\n",
       "    </tr>\n",
       "    <tr>\n",
       "      <th>2020.0</th>\n",
       "      <td>284049</td>\n",
       "    </tr>\n",
       "    <tr>\n",
       "      <th>2021.0</th>\n",
       "      <td>302370</td>\n",
       "    </tr>\n",
       "    <tr>\n",
       "      <th>2022.0</th>\n",
       "      <td>289262</td>\n",
       "    </tr>\n",
       "    <tr>\n",
       "      <th>2023.0</th>\n",
       "      <td>275223</td>\n",
       "    </tr>\n",
       "  </tbody>\n",
       "</table>\n",
       "</div>"
      ],
      "text/plain": [
       "             total consumption (sum_xi)\n",
       "winter year                            \n",
       "2013.0                           271547\n",
       "2014.0                           278303\n",
       "2015.0                           290489\n",
       "2016.0                           284938\n",
       "2017.0                           294680\n",
       "2018.0                           299473\n",
       "2019.0                           285989\n",
       "2020.0                           284049\n",
       "2021.0                           302370\n",
       "2022.0                           289262\n",
       "2023.0                           275223"
      ]
     },
     "execution_count": 41,
     "metadata": {},
     "output_type": "execute_result"
    }
   ],
   "source": [
    "annual_bretagne_winter_consumption = bretagne_winter_data.groupby('winter year').sum()\n",
    "annual_bretagne_winter_consumption.drop(['day','year'], axis=1, inplace=True)\n",
    "annual_bretagne_winter_consumption = annual_bretagne_winter_consumption.rename(columns={'consumption': 'total consumption (sum_xi)'})\n",
    "annual_bretagne_winter_consumption"
   ]
  },
  {
   "cell_type": "markdown",
   "id": "1dda0e11",
   "metadata": {},
   "source": [
    "Now we calculate the number of winter days for each year, and we store in the following dartaframe"
   ]
  },
  {
   "cell_type": "code",
   "execution_count": 42,
   "id": "19bdf90c",
   "metadata": {},
   "outputs": [
    {
     "data": {
      "text/html": [
       "<div>\n",
       "<style scoped>\n",
       "    .dataframe tbody tr th:only-of-type {\n",
       "        vertical-align: middle;\n",
       "    }\n",
       "\n",
       "    .dataframe tbody tr th {\n",
       "        vertical-align: top;\n",
       "    }\n",
       "\n",
       "    .dataframe thead th {\n",
       "        text-align: right;\n",
       "    }\n",
       "</style>\n",
       "<table border=\"1\" class=\"dataframe\">\n",
       "  <thead>\n",
       "    <tr style=\"text-align: right;\">\n",
       "      <th></th>\n",
       "      <th>number of winter days (n)</th>\n",
       "    </tr>\n",
       "    <tr>\n",
       "      <th>winter year</th>\n",
       "      <th></th>\n",
       "    </tr>\n",
       "  </thead>\n",
       "  <tbody>\n",
       "    <tr>\n",
       "      <th>2013.0</th>\n",
       "      <td>80</td>\n",
       "    </tr>\n",
       "    <tr>\n",
       "      <th>2014.0</th>\n",
       "      <td>90</td>\n",
       "    </tr>\n",
       "    <tr>\n",
       "      <th>2015.0</th>\n",
       "      <td>90</td>\n",
       "    </tr>\n",
       "    <tr>\n",
       "      <th>2016.0</th>\n",
       "      <td>91</td>\n",
       "    </tr>\n",
       "    <tr>\n",
       "      <th>2017.0</th>\n",
       "      <td>90</td>\n",
       "    </tr>\n",
       "    <tr>\n",
       "      <th>2018.0</th>\n",
       "      <td>90</td>\n",
       "    </tr>\n",
       "    <tr>\n",
       "      <th>2019.0</th>\n",
       "      <td>90</td>\n",
       "    </tr>\n",
       "    <tr>\n",
       "      <th>2020.0</th>\n",
       "      <td>91</td>\n",
       "    </tr>\n",
       "    <tr>\n",
       "      <th>2021.0</th>\n",
       "      <td>90</td>\n",
       "    </tr>\n",
       "    <tr>\n",
       "      <th>2022.0</th>\n",
       "      <td>90</td>\n",
       "    </tr>\n",
       "    <tr>\n",
       "      <th>2023.0</th>\n",
       "      <td>90</td>\n",
       "    </tr>\n",
       "  </tbody>\n",
       "</table>\n",
       "</div>"
      ],
      "text/plain": [
       "             number of winter days (n)\n",
       "winter year                           \n",
       "2013.0                              80\n",
       "2014.0                              90\n",
       "2015.0                              90\n",
       "2016.0                              91\n",
       "2017.0                              90\n",
       "2018.0                              90\n",
       "2019.0                              90\n",
       "2020.0                              91\n",
       "2021.0                              90\n",
       "2022.0                              90\n",
       "2023.0                              90"
      ]
     },
     "execution_count": 42,
     "metadata": {},
     "output_type": "execute_result"
    }
   ],
   "source": [
    "annual_bretagne_winter_days = bretagne_winter_data.groupby('winter year').count()\n",
    "annual_bretagne_winter_days.drop(['consumption','day','month','year'], axis=1, inplace=True)\n",
    "annual_bretagne_winter_days = annual_bretagne_winter_days.rename(columns={'date': 'number of winter days (n)'})\n",
    "annual_bretagne_winter_days"
   ]
  },
  {
   "cell_type": "markdown",
   "id": "8c4971ed",
   "metadata": {},
   "source": [
    "We finally build a new dataframe to store the parameters of mean and variance of the posterior distribution, separated by year."
   ]
  },
  {
   "cell_type": "code",
   "execution_count": 43,
   "id": "d819424a",
   "metadata": {},
   "outputs": [
    {
     "data": {
      "text/html": [
       "<div>\n",
       "<style scoped>\n",
       "    .dataframe tbody tr th:only-of-type {\n",
       "        vertical-align: middle;\n",
       "    }\n",
       "\n",
       "    .dataframe tbody tr th {\n",
       "        vertical-align: top;\n",
       "    }\n",
       "\n",
       "    .dataframe thead th {\n",
       "        text-align: right;\n",
       "    }\n",
       "</style>\n",
       "<table border=\"1\" class=\"dataframe\">\n",
       "  <thead>\n",
       "    <tr style=\"text-align: right;\">\n",
       "      <th></th>\n",
       "      <th>posterior mean</th>\n",
       "      <th>posterior variance</th>\n",
       "    </tr>\n",
       "    <tr>\n",
       "      <th>winter year</th>\n",
       "      <th></th>\n",
       "      <th></th>\n",
       "    </tr>\n",
       "  </thead>\n",
       "  <tbody>\n",
       "    <tr>\n",
       "      <th>2013.0</th>\n",
       "      <td>3395.176091</td>\n",
       "      <td>1984.126984</td>\n",
       "    </tr>\n",
       "    <tr>\n",
       "      <th>2014.0</th>\n",
       "      <td>3095.134598</td>\n",
       "      <td>1765.225066</td>\n",
       "    </tr>\n",
       "    <tr>\n",
       "      <th>2015.0</th>\n",
       "      <td>3229.578553</td>\n",
       "      <td>1765.225066</td>\n",
       "    </tr>\n",
       "    <tr>\n",
       "      <th>2016.0</th>\n",
       "      <td>3133.762549</td>\n",
       "      <td>1745.962462</td>\n",
       "    </tr>\n",
       "    <tr>\n",
       "      <th>2017.0</th>\n",
       "      <td>3275.816417</td>\n",
       "      <td>1765.225066</td>\n",
       "    </tr>\n",
       "    <tr>\n",
       "      <th>2018.0</th>\n",
       "      <td>3328.695940</td>\n",
       "      <td>1765.225066</td>\n",
       "    </tr>\n",
       "    <tr>\n",
       "      <th>2019.0</th>\n",
       "      <td>3179.931598</td>\n",
       "      <td>1765.225066</td>\n",
       "    </tr>\n",
       "    <tr>\n",
       "      <th>2020.0</th>\n",
       "      <td>3124.061545</td>\n",
       "      <td>1745.962462</td>\n",
       "    </tr>\n",
       "    <tr>\n",
       "      <th>2021.0</th>\n",
       "      <td>3360.657546</td>\n",
       "      <td>1765.225066</td>\n",
       "    </tr>\n",
       "    <tr>\n",
       "      <th>2022.0</th>\n",
       "      <td>3216.041483</td>\n",
       "      <td>1765.225066</td>\n",
       "    </tr>\n",
       "    <tr>\n",
       "      <th>2023.0</th>\n",
       "      <td>3061.154016</td>\n",
       "      <td>1765.225066</td>\n",
       "    </tr>\n",
       "  </tbody>\n",
       "</table>\n",
       "</div>"
      ],
      "text/plain": [
       "             posterior mean  posterior variance\n",
       "winter year                                    \n",
       "2013.0          3395.176091         1984.126984\n",
       "2014.0          3095.134598         1765.225066\n",
       "2015.0          3229.578553         1765.225066\n",
       "2016.0          3133.762549         1745.962462\n",
       "2017.0          3275.816417         1765.225066\n",
       "2018.0          3328.695940         1765.225066\n",
       "2019.0          3179.931598         1765.225066\n",
       "2020.0          3124.061545         1745.962462\n",
       "2021.0          3360.657546         1765.225066\n",
       "2022.0          3216.041483         1765.225066\n",
       "2023.0          3061.154016         1765.225066"
      ]
     },
     "execution_count": 43,
     "metadata": {},
     "output_type": "execute_result"
    }
   ],
   "source": [
    "annual_parameters_posterior_distribution = pd.DataFrame(index=annual_bretagne_winter_consumption.index)\n",
    "annual_parameters_posterior_distribution['posterior mean'] = ((mu_0 / (sigma_0 ** 2)) + annual_bretagne_winter_consumption['total consumption (sum_xi)'] / (sigma ** 2)) / ((1 / (sigma_0 ** 2)) + (annual_bretagne_winter_days['number of winter days (n)'] / (sigma ** 2)))\n",
    "annual_parameters_posterior_distribution['posterior variance'] = 1 / ((1 / (sigma_0 ** 2)) + (annual_bretagne_winter_days['number of winter days (n)'] / (sigma ** 2)))\n",
    "annual_parameters_posterior_distribution"
   ]
  },
  {
   "cell_type": "markdown",
   "id": "34e7e53f",
   "metadata": {},
   "source": [
    "**3. Plot the density of the posterior distribution in 2023 and the *kde* of real data in 2023 on the same plot.**"
   ]
  },
  {
   "cell_type": "markdown",
   "id": "629d8fe6",
   "metadata": {},
   "source": [
    "We first grab the values of the posterior mean and the posterior variance for the year of 2023. Then, the standard deviation of the posterior distribution is calculated, as well as the number of samples of the posterior distribution of 2023, which is the number of winter days in this year. Given all these parameters, random values following the posterior distribution are generated."
   ]
  },
  {
   "cell_type": "code",
   "execution_count": 44,
   "id": "f0a984a8",
   "metadata": {},
   "outputs": [],
   "source": [
    "bretagne_posterior_mean_winter_2023 = annual_parameters_posterior_distribution.loc[2023]['posterior mean']\n",
    "bretagne_posterior_variance_winter_2023 = annual_parameters_posterior_distribution.loc[2023]['posterior variance']\n",
    "\n",
    "bretagne_posterior_std_dev_winter_2023 = np.sqrt(bretagne_posterior_variance_winter_2023)\n",
    "num_samples = annual_bretagne_winter_days.loc[2023]['number of winter days (n)']\n",
    "\n",
    "bretagne_posterior_distribution_2023 = norm.rvs(loc=bretagne_posterior_mean_winter_2023, scale=bretagne_posterior_std_dev_winter_2023, size=num_samples)"
   ]
  },
  {
   "cell_type": "markdown",
   "id": "d14de39c",
   "metadata": {},
   "source": [
    "Now, for the real data, it is just necessary to filter it from the 'bretagne_winter_data' dataframe, by selecting the column of energy consumption from the year of 2023"
   ]
  },
  {
   "cell_type": "code",
   "execution_count": 45,
   "id": "f48a1944",
   "metadata": {},
   "outputs": [],
   "source": [
    "bretagne_real_data_2023 = np.array(bretagne_winter_data[bretagne_winter_data['winter year'] == 2023]['consumption'])"
   ]
  },
  {
   "cell_type": "markdown",
   "id": "11ad2bee",
   "metadata": {},
   "source": [
    "Finally, the plot of the two curves is made"
   ]
  },
  {
   "cell_type": "code",
   "execution_count": 46,
   "id": "eb02344e",
   "metadata": {},
   "outputs": [
    {
     "data": {
      "image/png": "[encoded data removed]",
      "text/plain": [
       "<Figure size 864x432 with 1 Axes>"
      ]
     },
     "metadata": {
      "needs_background": "light"
     },
     "output_type": "display_data"
    }
   ],
   "source": [
    "plt.figure(figsize=(12,6))\n",
    "sns.kdeplot(data=bretagne_real_data_2023, label=\"Original Data\", color='blue', fill=True)\n",
    "sns.kdeplot(data=bretagne_posterior_distribution_2023, label=\"Posterior Distribution\", color='red', fill=True)\n",
    "plt.title(\"Bretagne - winter 2023\")\n",
    "plt.xlabel(\"Consumption (MW)\")\n",
    "plt.legend() \n",
    "plt.show()"
   ]
  },
  {
   "cell_type": "markdown",
   "id": "34f2f990",
   "metadata": {},
   "source": [
    "**4. Discuss the results, comparing to those obtained in part A.**"
   ]
  },
  {
   "cell_type": "markdown",
   "id": "b636cd1b",
   "metadata": {},
   "source": [
    "For the winter of 2023 in Bretagne, there is a discrepancy between the mean estimate and the posterior mean. Typically, the posterior mean is obtained by Bayesian statistical analysis, which produces a more complete estimate by updating previous knowledge with observed data. By the other side, the mean estimator does not take into account any previous knowledge, i.e., it is just dependent on observed data."
   ]
  },
  {
   "cell_type": "markdown",
   "id": "fbb2395b",
   "metadata": {},
   "source": [
    "## D. Hypothesis testing"
   ]
  },
  {
   "cell_type": "markdown",
   "id": "9829b730",
   "metadata": {},
   "source": [
    "Consider the region Bretagne. While the standard deviation is equal to 400MW in winter, you would like to test the hypothesis that it was 500MW in 2023. The mean is supposed to be known and equal to 3200MW.\n",
    "\n",
    "**1. Propose a statistical test at level $\\alpha$.**"
   ]
  },
  {
   "cell_type": "markdown",
   "id": "eabddc9c",
   "metadata": {},
   "source": [
    "We consider two hypotheses $H_{0}$ and $H_{1}$, given by:\n",
    "- $H_{0} = \\{\\sigma = \\sigma_{0} = 400\\}$\n",
    "- $H_{1} = \\{\\sigma = \\sigma_{1} = 500\\}$\n",
    "\n",
    "Considering n i.i.d. observations, we compute the likelihood ratio $\\frac{p_{1}(x)}{p_{0}(x)}$, related the two hypotheses.\n",
    "\n",
    "$$\n",
    "\\begin{align*}\n",
    "\\frac{p_{1}(x)}{p_{0}(x)} &\\propto \\frac{exp \\left[-\\frac{1}{2\\sigma_{1}^2}\\sum_{i=1}^{n}(x_{i} - \\mu)^{2}\\right]}{exp \\left[-\\frac{1}{2\\sigma_{0}^2}\\sum_{i=1}^{n}(x_{i} - \\mu)^{2}\\right]}\\\\\n",
    "&\\propto exp\\left[\\frac{1}{2}\\left(\\frac{1}{\\sigma_{0}^{2}}-\\frac{1}{\\sigma_{1}^{2}}\\right)S\\right]\n",
    "\\end{align*}\n",
    "$$\n",
    "\n",
    "where $S = \\sum_{i=1}^{n}(x_{i}-\\mu)^{2}$.\n",
    "\n",
    "Given that $\\sigma_{0} < \\sigma_{1}$, the likelihood ratio is an increasing function of $x$. Therefore, the decision function is computed:\n",
    "\n",
    "$$\n",
    "\\delta(x) = 1_{\\left\\{S>c\\right\\}},\n",
    "$$\n",
    "\n",
    "for some constant $c > 0$.\n",
    "\n",
    "Since that $S \\sim \\sigma_{0}^{2} Z$, with $Z \\sim \\chi^{2}(n)$, then\n",
    "the decision function is given by:\n",
    "\n",
    "$$\n",
    "\\begin{align*}\n",
    "\\delta(x) &= 1_{\\left \\{ \\sum_{i=1}^{n}(x_{i}-\\mu)^{2} > c \\right\\}} \\\\\n",
    "          &= 1_{\\left\\{Z\\sigma_{0}^{2} > c\\right\\}} \\\\\n",
    "          &= 1_{\\left\\{Z > \\frac{c}{\\sigma_{0}^{2}}\\right\\}}\n",
    "\\end{align*}\n",
    "$$\n",
    "\n",
    "Finally, the level $\\alpha$ will be given by:\n",
    "\n",
    "$$\n",
    "\\begin{align*}\n",
    "\\alpha &= P_{0}(\\delta(x) = 1) \\\\\n",
    "       &= P_{0}\\left(Z > \\frac{c}{\\sigma_{0}^{2}}\\right)\n",
    "\\end{align*}\n",
    "$$\n",
    "\n",
    "In order to compute the threshold $c$, we use the quantile function $Q$ of the $\\chi^{2}(n)$ distribution.\n",
    "\n",
    "$$\n",
    "\\begin{equation*}\n",
    "\\frac{c}{\\sigma_{0}^{2}} = Q(1-\\alpha)\n",
    "\\end{equation*}\n",
    "$$\n",
    "\n",
    "$$\n",
    "\\begin{equation*}\n",
    "c = \\sigma_{0}^{2} Q(1-\\alpha)\n",
    "\\end{equation*}\n",
    "$$\n"
   ]
  },
  {
   "cell_type": "markdown",
   "id": "7d66ab40",
   "metadata": {},
   "source": [
    "**2. Provide the result of this test for $\\alpha=1\\%$.**"
   ]
  },
  {
   "cell_type": "markdown",
   "id": "25d14315",
   "metadata": {},
   "source": [
    "We first define the constants and compute the sum $S$ and compare it to the threshold $c$, calculated using quantile function of the $\\chi^{2}(n = 90)$ distribution"
   ]
  },
  {
   "cell_type": "code",
   "execution_count": 47,
   "id": "22e23a74",
   "metadata": {},
   "outputs": [],
   "source": [
    "sigma_0 = 400\n",
    "alpha = 0.01\n",
    "mean = 3200\n",
    "n = len(bretagne_real_data_2023)  # Energy consumption in Bretagne during winter 2023"
   ]
  },
  {
   "cell_type": "code",
   "execution_count": 48,
   "id": "c2a87073",
   "metadata": {},
   "outputs": [
    {
     "data": {
      "text/plain": [
       "18736029"
      ]
     },
     "execution_count": 48,
     "metadata": {},
     "output_type": "execute_result"
    }
   ],
   "source": [
    "s = ((bretagne_real_data_2023 - mean) ** 2).sum()\n",
    "s"
   ]
  },
  {
   "cell_type": "code",
   "execution_count": 49,
   "id": "ed87ccde",
   "metadata": {},
   "outputs": [
    {
     "data": {
      "text/plain": [
       "19858610.989779405"
      ]
     },
     "execution_count": 49,
     "metadata": {},
     "output_type": "execute_result"
    }
   ],
   "source": [
    "c = chi2.ppf(1-alpha, df=n) * (sigma_0 ** 2)\n",
    "c"
   ]
  },
  {
   "cell_type": "code",
   "execution_count": 50,
   "id": "5dc005c4",
   "metadata": {},
   "outputs": [
    {
     "name": "stdout",
     "output_type": "stream",
     "text": [
      "H0 failed to be rejected, i.e., the hypothesis of the variance of 400 could not be rejected\n"
     ]
    }
   ],
   "source": [
    "if s > c:\n",
    "    print(\"H0 is rejected, i.e., the hypothesis of the variance of 400 is rejected\")\n",
    "else:\n",
    "    print(\"H0 failed to be rejected, i.e., the hypothesis of the variance of 400 could not be rejected\")"
   ]
  },
  {
   "cell_type": "markdown",
   "id": "a59a2a96",
   "metadata": {},
   "source": [
    "## E. Testing independence"
   ]
  },
  {
   "cell_type": "markdown",
   "id": "a71cf918",
   "metadata": {},
   "source": [
    "Consider the power consumption in Bretagne and Provence-Alpes-Côte d'Azur in winter. "
   ]
  },
  {
   "cell_type": "markdown",
   "id": "a7c78215",
   "metadata": {},
   "source": [
    "**1. Visualize the joint distribution of power consumption in these 2 regions using seaborn.**"
   ]
  },
  {
   "cell_type": "code",
   "execution_count": 51,
   "id": "842d089d",
   "metadata": {},
   "outputs": [
    {
     "data": {
      "image/png": "[encoded data removed]",
      "text/plain": [
       "<Figure size 576x576 with 3 Axes>"
      ]
     },
     "metadata": {
      "needs_background": "light"
     },
     "output_type": "display_data"
    }
   ],
   "source": [
    "g = sns.jointplot(x=np.array(df_winter_data[df_winter_data['region'] == 'Bretagne']['consumption']),\n",
    "              y=np.array(df_winter_data[df_winter_data['region'] == 'Provence-Alpes-Côte d\\'Azur']['consumption']),\n",
    "              kind=\"scatter\", height=8, s=50)\n",
    "\n",
    "g.set_axis_labels(\"Bretagne\", \"Provence-Alpes-Côte d\\'Azur\")\n",
    "g.fig.suptitle(\"Energy consumption joint plot\")\n",
    "\n",
    "g.fig.subplots_adjust(top=0.9)\n",
    "\n",
    "plt.show()"
   ]
  },
  {
   "cell_type": "markdown",
   "id": "a30a20bc",
   "metadata": {},
   "source": [
    "**2. Do you think the power consumption in these two regions is independent?**"
   ]
  },
  {
   "cell_type": "markdown",
   "id": "bedb9130",
   "metadata": {},
   "source": [
    "We can observe that there is a relationship between the power consumption in these two regions, i.e., it is not independent. This is evident from the fact that when power consumption in Bretagne rises, there is a corresponding increase in power consumption in Provence-Alpes-Côte d'Azur."
   ]
  },
  {
   "cell_type": "markdown",
   "id": "164f9b1c",
   "metadata": {},
   "source": [
    "**3. Propose a chi-2 test for the independence of the power consumption in these two regions at level $\\alpha$.**"
   ]
  },
  {
   "cell_type": "markdown",
   "id": "b7e9c831",
   "metadata": {},
   "source": [
    "Let $X$ and $Y$ be the random variables for the energy consumption in Bretagne and Provence-Alpes-Côte d'Azur, respectively, during the winter. The null hypothesis is given by $H_{0} = \\{X \\perp Y\\}$, where the energy consumptions are considered to be independent in between the regions. Moreover, the alternative hypothesis is $H_{1} = \\{X \\not \\perp Y\\}$.\n",
    "\n",
    "Two partitions $A_{1}, A_{2}, \\dots A_{K}$ and $B_{1}, B_{2}, \\dots B_{L}$ are chosen for Bretagne and Provence-Alpes-Côte d'Azur, respectively, for the energy consumptions in the winter.\n",
    "\n",
    "Let $T(X,Y)$ be the $\\chi{2}$ statistic for independence, given by:\n",
    "\n",
    "$$\n",
    "\\begin{equation*}\n",
    "T(X,Y) = \\sum_{i,j} \\frac{\\left(N_{ij} - \\frac{N_i N_j}{n}\\right)^{2}}{\\frac{N_i N_j}{n}} \n",
    "\\overset{d}{\\rightarrow}\n",
    "\\chi^{2}((K-1)(L-1)) \\text{ when }\n",
    "n \\rightarrow + \\infty \\text{.}\n",
    "\\end{equation*}\n",
    "$$\n",
    "\n",
    "We decide $1$ if $T(x,y) > c$, i.e., the test is given by:\n",
    "\n",
    "$$\n",
    "\\begin{equation}\n",
    "\\delta(x,y) = 1_{\\{T(x,y) > c\\}}\n",
    "\\end{equation}\n",
    "$$\n",
    "\n",
    "Therefore, the test at level $\\alpha$, under the null hypothesis will be:\n",
    "\n",
    "$$\n",
    "\\begin{equation}\n",
    "\\alpha = P_{0}\\left(T(X,Y) > c\\right)\n",
    "\\end{equation}\n",
    "$$\n",
    "\n",
    "Given that we have a large number of samples $n$, we can compute the threshold $c$ using the quantile function $Q$ of the $\\chi^2$ distribution with $(K-1)(L-1)$ degrees of freedom:\n",
    "\n",
    "$$\n",
    "\\begin{equation}\n",
    "c = Q(1 - \\alpha).\n",
    "\\end{equation}\n",
    "$$"
   ]
  },
  {
   "cell_type": "markdown",
   "id": "c1fabfa5",
   "metadata": {},
   "source": [
    "**4. Give the result of this test for $\\alpha=1\\%$.**"
   ]
  },
  {
   "cell_type": "markdown",
   "id": "f079fecb",
   "metadata": {},
   "source": [
    "We first build a dataframe 'bretagne_provence_consumption' containing the energy consumption during the winter days in both regions of Bretagne and Provence-Alpes-Côte d'Azur"
   ]
  },
  {
   "cell_type": "code",
   "execution_count": 52,
   "id": "a8c5c107",
   "metadata": {},
   "outputs": [],
   "source": [
    "bretagne_data = df_winter_data[df_winter_data['region'] == 'Bretagne']\n",
    "provence_data = df_winter_data[df_winter_data['region'] == 'Provence-Alpes-Côte d\\'Azur']\n",
    "\n",
    "bretagne_provence_consumption = pd.DataFrame({'Bretagne': np.array(bretagne_data['consumption']),\n",
    "                                              'Provence-Alpes-Côte d\\'Azur': np.array(provence_data['consumption'])})"
   ]
  },
  {
   "cell_type": "markdown",
   "id": "4b996d62",
   "metadata": {},
   "source": [
    "We now grab the interval range for the energy consumption in Bretagne and in Provence-Alpes-Côte d'Azur, by identifying the minimum and the maximum energy consumption datapoints for each region. Then, the lenght of each interval is chosen and the partitions for both regions are computed. Everything is finally placed in a dataframe, as shown below"
   ]
  },
  {
   "cell_type": "code",
   "execution_count": 53,
   "id": "4acc7622",
   "metadata": {},
   "outputs": [
    {
     "data": {
      "text/html": [
       "<div>\n",
       "<style scoped>\n",
       "    .dataframe tbody tr th:only-of-type {\n",
       "        vertical-align: middle;\n",
       "    }\n",
       "\n",
       "    .dataframe tbody tr th {\n",
       "        vertical-align: top;\n",
       "    }\n",
       "\n",
       "    .dataframe thead th {\n",
       "        text-align: right;\n",
       "    }\n",
       "</style>\n",
       "<table border=\"1\" class=\"dataframe\">\n",
       "  <thead>\n",
       "    <tr style=\"text-align: right;\">\n",
       "      <th></th>\n",
       "      <th>Bretagne interval</th>\n",
       "      <th>Provence-Alpes-Côte d'Azur interval</th>\n",
       "    </tr>\n",
       "  </thead>\n",
       "  <tbody>\n",
       "    <tr>\n",
       "      <th>0</th>\n",
       "      <td>(2467, 2617]</td>\n",
       "      <td>(5290, 5440]</td>\n",
       "    </tr>\n",
       "    <tr>\n",
       "      <th>1</th>\n",
       "      <td>(3067, 3217]</td>\n",
       "      <td>(5740, 5890]</td>\n",
       "    </tr>\n",
       "    <tr>\n",
       "      <th>2</th>\n",
       "      <td>(3067, 3217]</td>\n",
       "      <td>(5890, 6040]</td>\n",
       "    </tr>\n",
       "    <tr>\n",
       "      <th>3</th>\n",
       "      <td>(3067, 3217]</td>\n",
       "      <td>(5890, 6040]</td>\n",
       "    </tr>\n",
       "    <tr>\n",
       "      <th>4</th>\n",
       "      <td>(2767, 2917]</td>\n",
       "      <td>(5440, 5590]</td>\n",
       "    </tr>\n",
       "    <tr>\n",
       "      <th>...</th>\n",
       "      <td>...</td>\n",
       "      <td>...</td>\n",
       "    </tr>\n",
       "    <tr>\n",
       "      <th>977</th>\n",
       "      <td>(2467, 2617]</td>\n",
       "      <td>(4390, 4540]</td>\n",
       "    </tr>\n",
       "    <tr>\n",
       "      <th>978</th>\n",
       "      <td>(2167, 2317]</td>\n",
       "      <td>(4240, 4390]</td>\n",
       "    </tr>\n",
       "    <tr>\n",
       "      <th>979</th>\n",
       "      <td>(2167, 2317]</td>\n",
       "      <td>(4090, 4240]</td>\n",
       "    </tr>\n",
       "    <tr>\n",
       "      <th>980</th>\n",
       "      <td>(2617, 2767]</td>\n",
       "      <td>(4240, 4390]</td>\n",
       "    </tr>\n",
       "    <tr>\n",
       "      <th>981</th>\n",
       "      <td>(2617, 2767]</td>\n",
       "      <td>(4240, 4390]</td>\n",
       "    </tr>\n",
       "  </tbody>\n",
       "</table>\n",
       "<p>982 rows × 2 columns</p>\n",
       "</div>"
      ],
      "text/plain": [
       "    Bretagne interval Provence-Alpes-Côte d'Azur interval\n",
       "0        (2467, 2617]                        (5290, 5440]\n",
       "1        (3067, 3217]                        (5740, 5890]\n",
       "2        (3067, 3217]                        (5890, 6040]\n",
       "3        (3067, 3217]                        (5890, 6040]\n",
       "4        (2767, 2917]                        (5440, 5590]\n",
       "..                ...                                 ...\n",
       "977      (2467, 2617]                        (4390, 4540]\n",
       "978      (2167, 2317]                        (4240, 4390]\n",
       "979      (2167, 2317]                        (4090, 4240]\n",
       "980      (2617, 2767]                        (4240, 4390]\n",
       "981      (2617, 2767]                        (4240, 4390]\n",
       "\n",
       "[982 rows x 2 columns]"
      ]
     },
     "execution_count": 53,
     "metadata": {},
     "output_type": "execute_result"
    }
   ],
   "source": [
    "max_bretagne_consumption = bretagne_provence_consumption['Bretagne'].max()\n",
    "min_bretagne_consumption = bretagne_provence_consumption['Bretagne'].min()\n",
    "max_provence_consumption = bretagne_provence_consumption['Provence-Alpes-Côte d\\'Azur'].max()\n",
    "min_provence_consumption = bretagne_provence_consumption['Provence-Alpes-Côte d\\'Azur'].min()\n",
    "\n",
    "lenght_partitions = 150\n",
    "\n",
    "intervals_bretagne = np.arange(min_bretagne_consumption, max_bretagne_consumption, lenght_partitions)\n",
    "intervals_provence = np.arange(min_provence_consumption, max_provence_consumption, lenght_partitions)\n",
    "\n",
    "bretagne_provence_consumption_intervals = pd.DataFrame({'Bretagne interval' : pd.cut(bretagne_provence_consumption['Bretagne'], bins=intervals_bretagne),\n",
    "                                                       'Provence-Alpes-Côte d\\'Azur interval' : pd.cut(bretagne_provence_consumption['Provence-Alpes-Côte d\\'Azur'], bins=intervals_provence)})\n",
    "bretagne_provence_consumption_intervals"
   ]
  },
  {
   "cell_type": "markdown",
   "id": "938068f8",
   "metadata": {},
   "source": [
    "From the dataframe above, a contingence table is computed, by counting the quantity of datapoints belonging to each interval"
   ]
  },
  {
   "cell_type": "code",
   "execution_count": 54,
   "id": "6ee05d24",
   "metadata": {},
   "outputs": [
    {
     "data": {
      "text/html": [
       "<div>\n",
       "<style scoped>\n",
       "    .dataframe tbody tr th:only-of-type {\n",
       "        vertical-align: middle;\n",
       "    }\n",
       "\n",
       "    .dataframe tbody tr th {\n",
       "        vertical-align: top;\n",
       "    }\n",
       "\n",
       "    .dataframe thead th {\n",
       "        text-align: right;\n",
       "    }\n",
       "</style>\n",
       "<table border=\"1\" class=\"dataframe\">\n",
       "  <thead>\n",
       "    <tr style=\"text-align: right;\">\n",
       "      <th>Provence-Alpes-Côte d'Azur interval</th>\n",
       "      <th>(3940, 4090]</th>\n",
       "      <th>(4090, 4240]</th>\n",
       "      <th>(4240, 4390]</th>\n",
       "      <th>(4390, 4540]</th>\n",
       "      <th>(4540, 4690]</th>\n",
       "      <th>(4690, 4840]</th>\n",
       "      <th>(4840, 4990]</th>\n",
       "      <th>(4990, 5140]</th>\n",
       "      <th>(5140, 5290]</th>\n",
       "      <th>(5290, 5440]</th>\n",
       "      <th>...</th>\n",
       "      <th>(5890, 6040]</th>\n",
       "      <th>(6040, 6190]</th>\n",
       "      <th>(6190, 6340]</th>\n",
       "      <th>(6340, 6490]</th>\n",
       "      <th>(6490, 6640]</th>\n",
       "      <th>(6640, 6790]</th>\n",
       "      <th>(6790, 6940]</th>\n",
       "      <th>(6940, 7090]</th>\n",
       "      <th>(7090, 7240]</th>\n",
       "      <th>(7240, 7390]</th>\n",
       "    </tr>\n",
       "    <tr>\n",
       "      <th>Bretagne interval</th>\n",
       "      <th></th>\n",
       "      <th></th>\n",
       "      <th></th>\n",
       "      <th></th>\n",
       "      <th></th>\n",
       "      <th></th>\n",
       "      <th></th>\n",
       "      <th></th>\n",
       "      <th></th>\n",
       "      <th></th>\n",
       "      <th></th>\n",
       "      <th></th>\n",
       "      <th></th>\n",
       "      <th></th>\n",
       "      <th></th>\n",
       "      <th></th>\n",
       "      <th></th>\n",
       "      <th></th>\n",
       "      <th></th>\n",
       "      <th></th>\n",
       "      <th></th>\n",
       "    </tr>\n",
       "  </thead>\n",
       "  <tbody>\n",
       "    <tr>\n",
       "      <th>(2167, 2317]</th>\n",
       "      <td>1</td>\n",
       "      <td>2</td>\n",
       "      <td>2</td>\n",
       "      <td>1</td>\n",
       "      <td>0</td>\n",
       "      <td>2</td>\n",
       "      <td>1</td>\n",
       "      <td>1</td>\n",
       "      <td>0</td>\n",
       "      <td>0</td>\n",
       "      <td>...</td>\n",
       "      <td>0</td>\n",
       "      <td>0</td>\n",
       "      <td>0</td>\n",
       "      <td>0</td>\n",
       "      <td>0</td>\n",
       "      <td>0</td>\n",
       "      <td>0</td>\n",
       "      <td>0</td>\n",
       "      <td>0</td>\n",
       "      <td>0</td>\n",
       "    </tr>\n",
       "    <tr>\n",
       "      <th>(2317, 2467]</th>\n",
       "      <td>1</td>\n",
       "      <td>0</td>\n",
       "      <td>4</td>\n",
       "      <td>1</td>\n",
       "      <td>2</td>\n",
       "      <td>4</td>\n",
       "      <td>3</td>\n",
       "      <td>2</td>\n",
       "      <td>0</td>\n",
       "      <td>0</td>\n",
       "      <td>...</td>\n",
       "      <td>0</td>\n",
       "      <td>0</td>\n",
       "      <td>0</td>\n",
       "      <td>0</td>\n",
       "      <td>0</td>\n",
       "      <td>0</td>\n",
       "      <td>0</td>\n",
       "      <td>0</td>\n",
       "      <td>0</td>\n",
       "      <td>0</td>\n",
       "    </tr>\n",
       "    <tr>\n",
       "      <th>(2467, 2617]</th>\n",
       "      <td>1</td>\n",
       "      <td>0</td>\n",
       "      <td>1</td>\n",
       "      <td>1</td>\n",
       "      <td>2</td>\n",
       "      <td>7</td>\n",
       "      <td>4</td>\n",
       "      <td>7</td>\n",
       "      <td>7</td>\n",
       "      <td>2</td>\n",
       "      <td>...</td>\n",
       "      <td>0</td>\n",
       "      <td>0</td>\n",
       "      <td>0</td>\n",
       "      <td>0</td>\n",
       "      <td>0</td>\n",
       "      <td>0</td>\n",
       "      <td>0</td>\n",
       "      <td>0</td>\n",
       "      <td>0</td>\n",
       "      <td>0</td>\n",
       "    </tr>\n",
       "    <tr>\n",
       "      <th>(2617, 2767]</th>\n",
       "      <td>0</td>\n",
       "      <td>3</td>\n",
       "      <td>5</td>\n",
       "      <td>4</td>\n",
       "      <td>5</td>\n",
       "      <td>3</td>\n",
       "      <td>4</td>\n",
       "      <td>17</td>\n",
       "      <td>7</td>\n",
       "      <td>8</td>\n",
       "      <td>...</td>\n",
       "      <td>0</td>\n",
       "      <td>1</td>\n",
       "      <td>0</td>\n",
       "      <td>0</td>\n",
       "      <td>0</td>\n",
       "      <td>0</td>\n",
       "      <td>0</td>\n",
       "      <td>0</td>\n",
       "      <td>0</td>\n",
       "      <td>0</td>\n",
       "    </tr>\n",
       "    <tr>\n",
       "      <th>(2767, 2917]</th>\n",
       "      <td>0</td>\n",
       "      <td>1</td>\n",
       "      <td>3</td>\n",
       "      <td>7</td>\n",
       "      <td>6</td>\n",
       "      <td>3</td>\n",
       "      <td>11</td>\n",
       "      <td>14</td>\n",
       "      <td>15</td>\n",
       "      <td>17</td>\n",
       "      <td>...</td>\n",
       "      <td>5</td>\n",
       "      <td>0</td>\n",
       "      <td>1</td>\n",
       "      <td>0</td>\n",
       "      <td>0</td>\n",
       "      <td>0</td>\n",
       "      <td>0</td>\n",
       "      <td>0</td>\n",
       "      <td>0</td>\n",
       "      <td>0</td>\n",
       "    </tr>\n",
       "    <tr>\n",
       "      <th>(2917, 3067]</th>\n",
       "      <td>0</td>\n",
       "      <td>0</td>\n",
       "      <td>1</td>\n",
       "      <td>1</td>\n",
       "      <td>5</td>\n",
       "      <td>10</td>\n",
       "      <td>11</td>\n",
       "      <td>14</td>\n",
       "      <td>15</td>\n",
       "      <td>15</td>\n",
       "      <td>...</td>\n",
       "      <td>12</td>\n",
       "      <td>3</td>\n",
       "      <td>2</td>\n",
       "      <td>3</td>\n",
       "      <td>1</td>\n",
       "      <td>0</td>\n",
       "      <td>0</td>\n",
       "      <td>0</td>\n",
       "      <td>0</td>\n",
       "      <td>0</td>\n",
       "    </tr>\n",
       "    <tr>\n",
       "      <th>(3067, 3217]</th>\n",
       "      <td>0</td>\n",
       "      <td>0</td>\n",
       "      <td>0</td>\n",
       "      <td>0</td>\n",
       "      <td>3</td>\n",
       "      <td>5</td>\n",
       "      <td>9</td>\n",
       "      <td>18</td>\n",
       "      <td>21</td>\n",
       "      <td>17</td>\n",
       "      <td>...</td>\n",
       "      <td>9</td>\n",
       "      <td>8</td>\n",
       "      <td>3</td>\n",
       "      <td>3</td>\n",
       "      <td>0</td>\n",
       "      <td>0</td>\n",
       "      <td>1</td>\n",
       "      <td>0</td>\n",
       "      <td>0</td>\n",
       "      <td>0</td>\n",
       "    </tr>\n",
       "    <tr>\n",
       "      <th>(3217, 3367]</th>\n",
       "      <td>0</td>\n",
       "      <td>0</td>\n",
       "      <td>0</td>\n",
       "      <td>0</td>\n",
       "      <td>0</td>\n",
       "      <td>1</td>\n",
       "      <td>4</td>\n",
       "      <td>4</td>\n",
       "      <td>8</td>\n",
       "      <td>14</td>\n",
       "      <td>...</td>\n",
       "      <td>18</td>\n",
       "      <td>14</td>\n",
       "      <td>9</td>\n",
       "      <td>3</td>\n",
       "      <td>4</td>\n",
       "      <td>2</td>\n",
       "      <td>3</td>\n",
       "      <td>0</td>\n",
       "      <td>0</td>\n",
       "      <td>0</td>\n",
       "    </tr>\n",
       "    <tr>\n",
       "      <th>(3367, 3517]</th>\n",
       "      <td>0</td>\n",
       "      <td>0</td>\n",
       "      <td>0</td>\n",
       "      <td>0</td>\n",
       "      <td>0</td>\n",
       "      <td>0</td>\n",
       "      <td>1</td>\n",
       "      <td>2</td>\n",
       "      <td>8</td>\n",
       "      <td>5</td>\n",
       "      <td>...</td>\n",
       "      <td>9</td>\n",
       "      <td>16</td>\n",
       "      <td>8</td>\n",
       "      <td>6</td>\n",
       "      <td>4</td>\n",
       "      <td>1</td>\n",
       "      <td>0</td>\n",
       "      <td>0</td>\n",
       "      <td>0</td>\n",
       "      <td>0</td>\n",
       "    </tr>\n",
       "    <tr>\n",
       "      <th>(3517, 3667]</th>\n",
       "      <td>0</td>\n",
       "      <td>0</td>\n",
       "      <td>0</td>\n",
       "      <td>0</td>\n",
       "      <td>0</td>\n",
       "      <td>0</td>\n",
       "      <td>1</td>\n",
       "      <td>2</td>\n",
       "      <td>2</td>\n",
       "      <td>1</td>\n",
       "      <td>...</td>\n",
       "      <td>14</td>\n",
       "      <td>16</td>\n",
       "      <td>14</td>\n",
       "      <td>10</td>\n",
       "      <td>3</td>\n",
       "      <td>4</td>\n",
       "      <td>2</td>\n",
       "      <td>1</td>\n",
       "      <td>1</td>\n",
       "      <td>0</td>\n",
       "    </tr>\n",
       "    <tr>\n",
       "      <th>(3667, 3817]</th>\n",
       "      <td>0</td>\n",
       "      <td>0</td>\n",
       "      <td>0</td>\n",
       "      <td>0</td>\n",
       "      <td>0</td>\n",
       "      <td>0</td>\n",
       "      <td>0</td>\n",
       "      <td>0</td>\n",
       "      <td>0</td>\n",
       "      <td>0</td>\n",
       "      <td>...</td>\n",
       "      <td>3</td>\n",
       "      <td>6</td>\n",
       "      <td>8</td>\n",
       "      <td>12</td>\n",
       "      <td>7</td>\n",
       "      <td>5</td>\n",
       "      <td>4</td>\n",
       "      <td>3</td>\n",
       "      <td>0</td>\n",
       "      <td>0</td>\n",
       "    </tr>\n",
       "    <tr>\n",
       "      <th>(3817, 3967]</th>\n",
       "      <td>0</td>\n",
       "      <td>0</td>\n",
       "      <td>0</td>\n",
       "      <td>0</td>\n",
       "      <td>0</td>\n",
       "      <td>0</td>\n",
       "      <td>0</td>\n",
       "      <td>0</td>\n",
       "      <td>0</td>\n",
       "      <td>1</td>\n",
       "      <td>...</td>\n",
       "      <td>1</td>\n",
       "      <td>5</td>\n",
       "      <td>4</td>\n",
       "      <td>9</td>\n",
       "      <td>3</td>\n",
       "      <td>1</td>\n",
       "      <td>1</td>\n",
       "      <td>1</td>\n",
       "      <td>2</td>\n",
       "      <td>0</td>\n",
       "    </tr>\n",
       "    <tr>\n",
       "      <th>(3967, 4117]</th>\n",
       "      <td>0</td>\n",
       "      <td>0</td>\n",
       "      <td>0</td>\n",
       "      <td>0</td>\n",
       "      <td>0</td>\n",
       "      <td>0</td>\n",
       "      <td>0</td>\n",
       "      <td>0</td>\n",
       "      <td>1</td>\n",
       "      <td>1</td>\n",
       "      <td>...</td>\n",
       "      <td>0</td>\n",
       "      <td>5</td>\n",
       "      <td>3</td>\n",
       "      <td>1</td>\n",
       "      <td>4</td>\n",
       "      <td>3</td>\n",
       "      <td>1</td>\n",
       "      <td>1</td>\n",
       "      <td>1</td>\n",
       "      <td>1</td>\n",
       "    </tr>\n",
       "    <tr>\n",
       "      <th>(4117, 4267]</th>\n",
       "      <td>0</td>\n",
       "      <td>0</td>\n",
       "      <td>0</td>\n",
       "      <td>0</td>\n",
       "      <td>0</td>\n",
       "      <td>0</td>\n",
       "      <td>0</td>\n",
       "      <td>0</td>\n",
       "      <td>0</td>\n",
       "      <td>0</td>\n",
       "      <td>...</td>\n",
       "      <td>0</td>\n",
       "      <td>0</td>\n",
       "      <td>2</td>\n",
       "      <td>1</td>\n",
       "      <td>0</td>\n",
       "      <td>1</td>\n",
       "      <td>1</td>\n",
       "      <td>1</td>\n",
       "      <td>1</td>\n",
       "      <td>0</td>\n",
       "    </tr>\n",
       "    <tr>\n",
       "      <th>(4267, 4417]</th>\n",
       "      <td>0</td>\n",
       "      <td>0</td>\n",
       "      <td>0</td>\n",
       "      <td>0</td>\n",
       "      <td>0</td>\n",
       "      <td>0</td>\n",
       "      <td>0</td>\n",
       "      <td>0</td>\n",
       "      <td>1</td>\n",
       "      <td>1</td>\n",
       "      <td>...</td>\n",
       "      <td>0</td>\n",
       "      <td>0</td>\n",
       "      <td>0</td>\n",
       "      <td>0</td>\n",
       "      <td>0</td>\n",
       "      <td>1</td>\n",
       "      <td>1</td>\n",
       "      <td>0</td>\n",
       "      <td>0</td>\n",
       "      <td>1</td>\n",
       "    </tr>\n",
       "    <tr>\n",
       "      <th>(4417, 4567]</th>\n",
       "      <td>0</td>\n",
       "      <td>0</td>\n",
       "      <td>0</td>\n",
       "      <td>0</td>\n",
       "      <td>0</td>\n",
       "      <td>0</td>\n",
       "      <td>0</td>\n",
       "      <td>0</td>\n",
       "      <td>0</td>\n",
       "      <td>0</td>\n",
       "      <td>...</td>\n",
       "      <td>0</td>\n",
       "      <td>0</td>\n",
       "      <td>0</td>\n",
       "      <td>0</td>\n",
       "      <td>0</td>\n",
       "      <td>0</td>\n",
       "      <td>0</td>\n",
       "      <td>0</td>\n",
       "      <td>0</td>\n",
       "      <td>0</td>\n",
       "    </tr>\n",
       "    <tr>\n",
       "      <th>(4567, 4717]</th>\n",
       "      <td>0</td>\n",
       "      <td>0</td>\n",
       "      <td>0</td>\n",
       "      <td>0</td>\n",
       "      <td>0</td>\n",
       "      <td>0</td>\n",
       "      <td>0</td>\n",
       "      <td>0</td>\n",
       "      <td>0</td>\n",
       "      <td>0</td>\n",
       "      <td>...</td>\n",
       "      <td>0</td>\n",
       "      <td>0</td>\n",
       "      <td>0</td>\n",
       "      <td>0</td>\n",
       "      <td>0</td>\n",
       "      <td>0</td>\n",
       "      <td>0</td>\n",
       "      <td>0</td>\n",
       "      <td>0</td>\n",
       "      <td>1</td>\n",
       "    </tr>\n",
       "  </tbody>\n",
       "</table>\n",
       "<p>17 rows × 23 columns</p>\n",
       "</div>"
      ],
      "text/plain": [
       "Provence-Alpes-Côte d'Azur interval  (3940, 4090]  (4090, 4240]  (4240, 4390]  \\\n",
       "Bretagne interval                                                               \n",
       "(2167, 2317]                                    1             2             2   \n",
       "(2317, 2467]                                    1             0             4   \n",
       "(2467, 2617]                                    1             0             1   \n",
       "(2617, 2767]                                    0             3             5   \n",
       "(2767, 2917]                                    0             1             3   \n",
       "(2917, 3067]                                    0             0             1   \n",
       "(3067, 3217]                                    0             0             0   \n",
       "(3217, 3367]                                    0             0             0   \n",
       "(3367, 3517]                                    0             0             0   \n",
       "(3517, 3667]                                    0             0             0   \n",
       "(3667, 3817]                                    0             0             0   \n",
       "(3817, 3967]                                    0             0             0   \n",
       "(3967, 4117]                                    0             0             0   \n",
       "(4117, 4267]                                    0             0             0   \n",
       "(4267, 4417]                                    0             0             0   \n",
       "(4417, 4567]                                    0             0             0   \n",
       "(4567, 4717]                                    0             0             0   \n",
       "\n",
       "Provence-Alpes-Côte d'Azur interval  (4390, 4540]  (4540, 4690]  (4690, 4840]  \\\n",
       "Bretagne interval                                                               \n",
       "(2167, 2317]                                    1             0             2   \n",
       "(2317, 2467]                                    1             2             4   \n",
       "(2467, 2617]                                    1             2             7   \n",
       "(2617, 2767]                                    4             5             3   \n",
       "(2767, 2917]                                    7             6             3   \n",
       "(2917, 3067]                                    1             5            10   \n",
       "(3067, 3217]                                    0             3             5   \n",
       "(3217, 3367]                                    0             0             1   \n",
       "(3367, 3517]                                    0             0             0   \n",
       "(3517, 3667]                                    0             0             0   \n",
       "(3667, 3817]                                    0             0             0   \n",
       "(3817, 3967]                                    0             0             0   \n",
       "(3967, 4117]                                    0             0             0   \n",
       "(4117, 4267]                                    0             0             0   \n",
       "(4267, 4417]                                    0             0             0   \n",
       "(4417, 4567]                                    0             0             0   \n",
       "(4567, 4717]                                    0             0             0   \n",
       "\n",
       "Provence-Alpes-Côte d'Azur interval  (4840, 4990]  (4990, 5140]  (5140, 5290]  \\\n",
       "Bretagne interval                                                               \n",
       "(2167, 2317]                                    1             1             0   \n",
       "(2317, 2467]                                    3             2             0   \n",
       "(2467, 2617]                                    4             7             7   \n",
       "(2617, 2767]                                    4            17             7   \n",
       "(2767, 2917]                                   11            14            15   \n",
       "(2917, 3067]                                   11            14            15   \n",
       "(3067, 3217]                                    9            18            21   \n",
       "(3217, 3367]                                    4             4             8   \n",
       "(3367, 3517]                                    1             2             8   \n",
       "(3517, 3667]                                    1             2             2   \n",
       "(3667, 3817]                                    0             0             0   \n",
       "(3817, 3967]                                    0             0             0   \n",
       "(3967, 4117]                                    0             0             1   \n",
       "(4117, 4267]                                    0             0             0   \n",
       "(4267, 4417]                                    0             0             1   \n",
       "(4417, 4567]                                    0             0             0   \n",
       "(4567, 4717]                                    0             0             0   \n",
       "\n",
       "Provence-Alpes-Côte d'Azur interval  (5290, 5440]  ...  (5890, 6040]  \\\n",
       "Bretagne interval                                  ...                 \n",
       "(2167, 2317]                                    0  ...             0   \n",
       "(2317, 2467]                                    0  ...             0   \n",
       "(2467, 2617]                                    2  ...             0   \n",
       "(2617, 2767]                                    8  ...             0   \n",
       "(2767, 2917]                                   17  ...             5   \n",
       "(2917, 3067]                                   15  ...            12   \n",
       "(3067, 3217]                                   17  ...             9   \n",
       "(3217, 3367]                                   14  ...            18   \n",
       "(3367, 3517]                                    5  ...             9   \n",
       "(3517, 3667]                                    1  ...            14   \n",
       "(3667, 3817]                                    0  ...             3   \n",
       "(3817, 3967]                                    1  ...             1   \n",
       "(3967, 4117]                                    1  ...             0   \n",
       "(4117, 4267]                                    0  ...             0   \n",
       "(4267, 4417]                                    1  ...             0   \n",
       "(4417, 4567]                                    0  ...             0   \n",
       "(4567, 4717]                                    0  ...             0   \n",
       "\n",
       "Provence-Alpes-Côte d'Azur interval  (6040, 6190]  (6190, 6340]  (6340, 6490]  \\\n",
       "Bretagne interval                                                               \n",
       "(2167, 2317]                                    0             0             0   \n",
       "(2317, 2467]                                    0             0             0   \n",
       "(2467, 2617]                                    0             0             0   \n",
       "(2617, 2767]                                    1             0             0   \n",
       "(2767, 2917]                                    0             1             0   \n",
       "(2917, 3067]                                    3             2             3   \n",
       "(3067, 3217]                                    8             3             3   \n",
       "(3217, 3367]                                   14             9             3   \n",
       "(3367, 3517]                                   16             8             6   \n",
       "(3517, 3667]                                   16            14            10   \n",
       "(3667, 3817]                                    6             8            12   \n",
       "(3817, 3967]                                    5             4             9   \n",
       "(3967, 4117]                                    5             3             1   \n",
       "(4117, 4267]                                    0             2             1   \n",
       "(4267, 4417]                                    0             0             0   \n",
       "(4417, 4567]                                    0             0             0   \n",
       "(4567, 4717]                                    0             0             0   \n",
       "\n",
       "Provence-Alpes-Côte d'Azur interval  (6490, 6640]  (6640, 6790]  (6790, 6940]  \\\n",
       "Bretagne interval                                                               \n",
       "(2167, 2317]                                    0             0             0   \n",
       "(2317, 2467]                                    0             0             0   \n",
       "(2467, 2617]                                    0             0             0   \n",
       "(2617, 2767]                                    0             0             0   \n",
       "(2767, 2917]                                    0             0             0   \n",
       "(2917, 3067]                                    1             0             0   \n",
       "(3067, 3217]                                    0             0             1   \n",
       "(3217, 3367]                                    4             2             3   \n",
       "(3367, 3517]                                    4             1             0   \n",
       "(3517, 3667]                                    3             4             2   \n",
       "(3667, 3817]                                    7             5             4   \n",
       "(3817, 3967]                                    3             1             1   \n",
       "(3967, 4117]                                    4             3             1   \n",
       "(4117, 4267]                                    0             1             1   \n",
       "(4267, 4417]                                    0             1             1   \n",
       "(4417, 4567]                                    0             0             0   \n",
       "(4567, 4717]                                    0             0             0   \n",
       "\n",
       "Provence-Alpes-Côte d'Azur interval  (6940, 7090]  (7090, 7240]  (7240, 7390]  \n",
       "Bretagne interval                                                              \n",
       "(2167, 2317]                                    0             0             0  \n",
       "(2317, 2467]                                    0             0             0  \n",
       "(2467, 2617]                                    0             0             0  \n",
       "(2617, 2767]                                    0             0             0  \n",
       "(2767, 2917]                                    0             0             0  \n",
       "(2917, 3067]                                    0             0             0  \n",
       "(3067, 3217]                                    0             0             0  \n",
       "(3217, 3367]                                    0             0             0  \n",
       "(3367, 3517]                                    0             0             0  \n",
       "(3517, 3667]                                    1             1             0  \n",
       "(3667, 3817]                                    3             0             0  \n",
       "(3817, 3967]                                    1             2             0  \n",
       "(3967, 4117]                                    1             1             1  \n",
       "(4117, 4267]                                    1             1             0  \n",
       "(4267, 4417]                                    0             0             1  \n",
       "(4417, 4567]                                    0             0             0  \n",
       "(4567, 4717]                                    0             0             1  \n",
       "\n",
       "[17 rows x 23 columns]"
      ]
     },
     "execution_count": 54,
     "metadata": {},
     "output_type": "execute_result"
    }
   ],
   "source": [
    "cross_table = pd.crosstab(bretagne_provence_consumption_intervals['Bretagne interval'], bretagne_provence_consumption_intervals['Provence-Alpes-Côte d\\'Azur interval'])\n",
    "cross_table"
   ]
  },
  {
   "cell_type": "markdown",
   "id": "7119c8ca",
   "metadata": {},
   "source": [
    "From the contingence table above, the value of $T(X,Y)$ is computed, starting from $N_{i}$ and $N_{j}$ which are lists of the sum of the values in each row and column, respectively. Then, the number of rows of the table is assigned to the variable $K$ and the number of columns, to the variable $L$. Finally, the number of samples $n$ is also computed. Having all of this done, the value o $T(X,Y)$ is calculated"
   ]
  },
  {
   "cell_type": "code",
   "execution_count": 55,
   "id": "12f298df",
   "metadata": {},
   "outputs": [
    {
     "data": {
      "text/plain": [
       "1531.6818916799293"
      ]
     },
     "execution_count": 55,
     "metadata": {},
     "output_type": "execute_result"
    }
   ],
   "source": [
    "Ni = list(cross_table.sum(axis=1))\n",
    "Nj = list(cross_table.sum(axis=0))\n",
    "\n",
    "K = cross_table.shape[0]\n",
    "L = cross_table.shape[1]\n",
    "\n",
    "n = bretagne_provence_consumption_intervals.shape[0]\n",
    "\n",
    "T_XY = 0\n",
    "for i in range(K):\n",
    "    for j in range(L):\n",
    "        T_XY += ((cross_table.iloc[i, j] - (Ni[i] * Nj[j]) / n) ** 2) / ((Ni[i] * Nj[j]) / n) \n",
    "        \n",
    "T_XY"
   ]
  },
  {
   "cell_type": "markdown",
   "id": "f6a882b3",
   "metadata": {},
   "source": [
    "The last step is to compute the threshold $c$ and check the hypotheses $H_{0}$ and $H_{1}$"
   ]
  },
  {
   "cell_type": "code",
   "execution_count": 56,
   "id": "4c845c87",
   "metadata": {},
   "outputs": [
    {
     "data": {
      "text/plain": [
       "416.6492959110414"
      ]
     },
     "execution_count": 56,
     "metadata": {},
     "output_type": "execute_result"
    }
   ],
   "source": [
    "alpha = 0.01\n",
    "c = chi2.ppf(1 - alpha, (K-1) * (L-1))\n",
    "c"
   ]
  },
  {
   "cell_type": "code",
   "execution_count": 57,
   "id": "c18113d5",
   "metadata": {},
   "outputs": [
    {
     "name": "stdout",
     "output_type": "stream",
     "text": [
      "H0 is rejected, i.e., the hypothesis that the power consumption in these regions is independent is rejected\n"
     ]
    }
   ],
   "source": [
    "if T_XY > c:\n",
    "    print(\"H0 is rejected, i.e., the hypothesis that the power consumption in these regions is independent is rejected\")\n",
    "else:\n",
    "    print(\"H0 failed to be rejected, i.e., the power consumption is dependent in between these regions\")"
   ]
  },
  {
   "cell_type": "markdown",
   "id": "339d7f64",
   "metadata": {},
   "source": [
    "## F. Confidence intervals"
   ]
  },
  {
   "cell_type": "markdown",
   "id": "1c957e74",
   "metadata": {},
   "source": [
    "Consider the region Bretagne in winter. \n",
    "\n",
    "**1. Provide a confidence interval at level $\\alpha=95\\%$ for the mean power consumption.**"
   ]
  },
  {
   "cell_type": "markdown",
   "id": "cded64dd",
   "metadata": {},
   "source": [
    "From the Section A of this project (Point Estimation), the unbiased estimators of mean and variance of the energy consumption were given. It has also been computed the variance of the mean estimator, which is:\n",
    "\n",
    "$$\n",
    "\\begin{equation*}\n",
    "\\hat \\mu = \\frac{1}{n} \\sum_{i=1}^{n} x_{i} \\Rightarrow Var(\\hat \\mu) = \\frac{\\sigma^{2}}{n}\n",
    "\\end{equation*}\n",
    "$$\n",
    "\n",
    "We can normalize the distribution $\\hat \\mu$ and compute a normal random variable $Z$, such that $Z \\sim \\mathcal{N}(0,1)$.\n",
    "\n",
    "$$\n",
    "\\begin{equation*}\n",
    "Z = \\frac{\\hat \\mu - \\mu}{\\sqrt{\\hat \\sigma^{2}/n}} = \\frac{\\sqrt{n}}{\\hat \\sigma} (\\hat \\mu - \\mu)\n",
    "\\end{equation*}\n",
    "$$\n",
    "\n",
    "Now the confidence interval can be computed. Thus, given that $c = Q\\left(1 - \\left(\\frac{1-\\alpha}{2}\\right)\\right) = Q\\left(\\frac{\\alpha+1}{2}\\right)$, where $Q$ is the quantile function of the t-Student distribution, we obtain:\n",
    "\n",
    "$$\n",
    "P_{\\mu}(-c \\leq Z \\leq c) = 1 - \\alpha\\\\\n",
    "P_{\\mu}\\left(-c \\leq \\frac{\\sqrt{n}}{\\hat \\sigma} (\\hat \\mu - \\mu) \\leq c\\right) = 1 - \\alpha\\\\\n",
    "P_{\\mu}\\left(\\hat \\mu - \\frac{c\\hat\\sigma}{\\sqrt{n}} \\leq \\mu \\leq \\hat \\mu + \\frac{c \\hat \\sigma}{\\sqrt{n}}\\right) = 1 - \\alpha\\\\\n",
    "P_{\\mu}\\left(\\mu \\in \\left[\\hat \\mu - \\frac{c\\hat\\sigma}{\\sqrt{n}} , \\hat \\mu + \\frac{c \\hat \\sigma}{\\sqrt{n}}\\right]\\right) = 1 - \\alpha\n",
    "$$\n",
    "\n",
    "Therefore, the confidence interval $\\delta(\\mu)$ is given by:\n",
    "$$\n",
    "\\delta(\\mu) = \\left[\\hat \\mu - \\frac{c\\hat\\sigma}{\\sqrt{n}} , \\hat \\mu + \\frac{c \\hat \\sigma}{\\sqrt{n}}\\right]\n",
    "$$\n",
    "\n",
    "\n"
   ]
  },
  {
   "cell_type": "code",
   "execution_count": 58,
   "id": "fbd02584",
   "metadata": {},
   "outputs": [],
   "source": [
    "n = len(bretagne_winter_data)\n",
    "mean_estimator = bretagne_winter_mean\n",
    "alpha = 0.95"
   ]
  },
  {
   "cell_type": "code",
   "execution_count": 59,
   "id": "01ec80cd",
   "metadata": {},
   "outputs": [],
   "source": [
    "c = t.ppf((alpha + 1) / 2, df=n - 1)\n",
    "confidence_interval_lower_bound = mean_estimator - (c * sigma / np.sqrt(n)),\n",
    "confidence_interval_upper_bound = mean_estimator + (c * sigma / np.sqrt(n))"
   ]
  },
  {
   "cell_type": "code",
   "execution_count": 60,
   "id": "cc89993c",
   "metadata": {},
   "outputs": [
    {
     "name": "stdout",
     "output_type": "stream",
     "text": [
      "For the mean power consumption, a confidence interval at level alpha = 95% is: [3189.13, 3239.23]\n"
     ]
    }
   ],
   "source": [
    "print(f\"For the mean power consumption, a confidence interval at level alpha = 95% is: [{confidence_interval_lower_bound[0]:.2f}, {confidence_interval_upper_bound:.2f}]\")"
   ]
  },
  {
   "cell_type": "markdown",
   "id": "8490c8fa",
   "metadata": {},
   "source": [
    "**2. Give the result of a Student test at level $5\\%$ for the null hypothesis that the mean consumption in 2023 is equal to 3100MW.**"
   ]
  },
  {
   "cell_type": "markdown",
   "id": "75cb676d",
   "metadata": {},
   "source": [
    "The hypotheses are $H_{0} = \\{\\mu = 3100\\}$ and $H_{1} = \\{\\mu \\neq 3100\\}$. Moreover, \n",
    "\n",
    "$$\n",
    "Z = \\frac{\\hat \\mu - \\mu}{\\sqrt{\\hat \\sigma^{2}/n}} = \\frac{\\sqrt{n}}{\\hat \\sigma} (\\hat \\mu - \\mu) \\sim St(n-1)\n",
    "$$\n",
    "\n",
    "This will be a two-tailed decision function given by:\n",
    "\n",
    "$$\n",
    "\\delta(\\mu) = 1_{\\{|t| > c\\}},\n",
    "$$\n",
    "\n",
    "in which $c$ is the value of the t-Student's quatile function with $n-1$ degrees of freedom evaluated at $1 - \\frac{\\alpha}{2}$."
   ]
  },
  {
   "cell_type": "code",
   "execution_count": 61,
   "id": "c2262076",
   "metadata": {},
   "outputs": [],
   "source": [
    "n = len(bretagne_real_data_2023)\n",
    "mu = 3100\n",
    "alpha = 0.05\n",
    "mean_estimator = bretagne_real_data_2023.mean()\n",
    "std_dev_estimator = bretagne_real_data_2023.std()"
   ]
  },
  {
   "cell_type": "code",
   "execution_count": 62,
   "id": "547fb138",
   "metadata": {},
   "outputs": [],
   "source": [
    "c = t.ppf(1 - (alpha / 2), n - 1)\n",
    "Z = (mean_estimator - 3100)/(std_dev_estimator / np.sqrt(n))"
   ]
  },
  {
   "cell_type": "code",
   "execution_count": 63,
   "id": "72070a38",
   "metadata": {},
   "outputs": [
    {
     "name": "stdout",
     "output_type": "stream",
     "text": [
      "We fail to reject the null hypothesis, given that |Z| = 0.92 <= c = 1.99\n"
     ]
    }
   ],
   "source": [
    "if np.abs(Z) > c:\n",
    "    print(f\"We reject the null hypothesis, given that |Z| = {np.abs(Z):.2f} > c = {c:.2f}\")\n",
    "else:\n",
    "    print(f\"We fail to reject the null hypothesis, given that |Z| = {np.abs(Z):.2f} <= c = {c:.2f}\")  "
   ]
  }
 ],
 "metadata": {
  "kernelspec": {
   "display_name": "Python 3 (ipykernel)",
   "language": "python",
   "name": "python3"
  },
  "language_info": {
   "codemirror_mode": {
    "name": "ipython",
    "version": 3
   },
   "file_extension": ".py",
   "mimetype": "text/x-python",
   "name": "python",
   "nbconvert_exporter": "python",
   "pygments_lexer": "ipython3",
   "version": "3.9.12"
  }
 },
 "nbformat": 4,
 "nbformat_minor": 5
}
